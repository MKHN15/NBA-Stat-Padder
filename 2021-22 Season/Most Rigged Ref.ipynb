{
 "cells": [
  {
   "cell_type": "code",
   "execution_count": 66,
   "metadata": {
    "id": "1QSzPpQyK-ac"
   },
   "outputs": [],
   "source": [
    "import pandas as pd \n",
    "import random as rnd\n",
    "import numpy as np\n",
    "import matplotlib.pyplot as plt\n",
    "from bs4 import BeautifulSoup\n",
    "import requests"
   ]
  },
  {
   "cell_type": "code",
   "execution_count": 67,
   "metadata": {},
   "outputs": [],
   "source": [
    "import ssl\n",
    "ssl._create_default_https_context = ssl._create_unverified_context"
   ]
  },
  {
   "cell_type": "code",
   "execution_count": 68,
   "metadata": {
    "colab": {
     "base_uri": "https://localhost:8080/",
     "height": 1000
    },
    "id": "7hHPD0SoLezU",
    "outputId": "689e50fa-e9c5-45ae-b6c0-88df45be9c65"
   },
   "outputs": [],
   "source": [
    "url = 'https://www.nbastuffer.com/2021-2022-nba-referee-stats/'\n",
    "page = requests.get(url)\n",
    "soup = BeautifulSoup(page.content, 'html.parser')\n",
    "table = soup.find('table', id='tablepress-83')\n",
    "ref = pd.read_html(str(table))[0]"
   ]
  },
  {
   "cell_type": "code",
   "execution_count": 69,
   "metadata": {
    "id": "dakSspJsMZVm"
   },
   "outputs": [],
   "source": [
    "ref.drop('RANK', axis=1, inplace=True)\n",
    "ref[['EXPERIENCE (YEARS)', 'GAMES OFFICIATED', 'HOME TEAM WIN%', 'HOME TEAM POINTS DIFFERENTIAL', 'TOTAL POINTS PER GAME', 'CALLED FOULS PER GAME', 'FOUL% AGAINST ROAD TEAMS', 'FOUL% AGAINST HOME TEAMS', 'FOUL DIFFERENTIALFoul Differential Per GameSeason average of {Called Fouls Against Road Team} - {Called Fouls Against Home Team}. When foul differential is in positive figure, that referee (a.k.a. homey) favors home teams and is more prone to call against road teams.']] = ref[['EXPERIENCE (YEARS)', 'GAMES OFFICIATED', 'HOME TEAM WIN%', 'HOME TEAM POINTS DIFFERENTIAL', 'TOTAL POINTS PER GAME', 'CALLED FOULS PER GAME', 'FOUL% AGAINST ROAD TEAMS', 'FOUL% AGAINST HOME TEAMS', 'FOUL DIFFERENTIALFoul Differential Per GameSeason average of {Called Fouls Against Road Team} - {Called Fouls Against Home Team}. When foul differential is in positive figure, that referee (a.k.a. homey) favors home teams and is more prone to call against road teams.']].apply(pd.to_numeric)\n",
    "ref.rename(\n",
    "    columns={\n",
    "        'FOUL DIFFERENTIALFoul Differential Per GameSeason average of {Called Fouls Against Road Team} - {Called Fouls Against Home Team}. When foul differential is in positive figure, that referee (a.k.a. homey) favors home teams and is more prone to call against road teams.': 'FOUL DIFFERENTIAL'\n",
    "    }, inplace=True)"
   ]
  },
  {
   "cell_type": "code",
   "execution_count": 70,
   "metadata": {
    "colab": {
     "base_uri": "https://localhost:8080/"
    },
    "id": "SK43Qxp3WOi5",
    "outputId": "bdbe8729-ad9c-49ba-8de7-e9c91ce89e2b"
   },
   "outputs": [
    {
     "data": {
      "text/plain": [
       "Index(['REFEREE', 'ROLE', 'EXPERIENCE (YEARS)', 'GAMES OFFICIATED',\n",
       "       'HOME TEAM WIN%', 'HOME TEAM POINTS DIFFERENTIAL',\n",
       "       'TOTAL POINTS PER GAME', 'CALLED FOULS PER GAME',\n",
       "       'FOUL% AGAINST ROAD TEAMS', 'FOUL% AGAINST HOME TEAMS',\n",
       "       'FOUL DIFFERENTIAL'],\n",
       "      dtype='object')"
      ]
     },
     "execution_count": 70,
     "metadata": {},
     "output_type": "execute_result"
    }
   ],
   "source": [
    "ref.columns"
   ]
  },
  {
   "cell_type": "code",
   "execution_count": 71,
   "metadata": {
    "id": "0oKeUKzja7gL"
   },
   "outputs": [],
   "source": [
    "ref.drop(ref[ref['GAMES OFFICIATED'] <= 6].index, inplace = True)"
   ]
  },
  {
   "cell_type": "code",
   "execution_count": 72,
   "metadata": {},
   "outputs": [
    {
     "data": {
      "text/plain": [
       "Index(['REFEREE', 'ROLE', 'EXPERIENCE (YEARS)', 'GAMES OFFICIATED',\n",
       "       'HOME TEAM WIN%', 'HOME TEAM POINTS DIFFERENTIAL',\n",
       "       'TOTAL POINTS PER GAME', 'CALLED FOULS PER GAME',\n",
       "       'FOUL% AGAINST ROAD TEAMS', 'FOUL% AGAINST HOME TEAMS',\n",
       "       'FOUL DIFFERENTIAL'],\n",
       "      dtype='object')"
      ]
     },
     "execution_count": 72,
     "metadata": {},
     "output_type": "execute_result"
    }
   ],
   "source": [
    "ref.columns"
   ]
  },
  {
   "cell_type": "code",
   "execution_count": 73,
   "metadata": {
    "colab": {
     "base_uri": "https://localhost:8080/",
     "height": 1000
    },
    "id": "-S4m3DlEbKfE",
    "outputId": "019edaa3-1e9c-4d5b-d566-5be2fc4bdbbe"
   },
   "outputs": [
    {
     "ename": "KeyError",
     "evalue": "\"['FOULS CALLED AGAINST HOME TEAM', 'Home Rig Score', 'FOULS CALLED AGAINST ROAD TEAM', 'HOME GAMES WON'] not in index\"",
     "output_type": "error",
     "traceback": [
      "\u001b[1;31m---------------------------------------------------------------------------\u001b[0m",
      "\u001b[1;31mKeyError\u001b[0m                                  Traceback (most recent call last)",
      "\u001b[1;32m<ipython-input-73-b9129bea74a5>\u001b[0m in \u001b[0;36m<module>\u001b[1;34m\u001b[0m\n\u001b[1;32m----> 1\u001b[1;33m \u001b[0mref\u001b[0m\u001b[1;33m[\u001b[0m\u001b[1;33m[\u001b[0m\u001b[1;34m'EXPERIENCE (YEARS)'\u001b[0m\u001b[1;33m,\u001b[0m \u001b[1;34m'GAMES OFFICIATED'\u001b[0m\u001b[1;33m,\u001b[0m \u001b[1;34m'HOME TEAM WIN%'\u001b[0m\u001b[1;33m,\u001b[0m \u001b[1;34m'HOME TEAM POINTS DIFFERENTIAL'\u001b[0m\u001b[1;33m,\u001b[0m\u001b[1;34m'CALLED FOULS PER GAME'\u001b[0m\u001b[1;33m,\u001b[0m \u001b[1;34m'FOUL% AGAINST ROAD TEAMS'\u001b[0m\u001b[1;33m,\u001b[0m\u001b[1;34m'FOUL% AGAINST HOME TEAMS'\u001b[0m\u001b[1;33m,\u001b[0m \u001b[1;34m'FOUL DIFFERENTIAL'\u001b[0m\u001b[1;33m,\u001b[0m \u001b[1;34m'Home Rig Score'\u001b[0m\u001b[1;33m,\u001b[0m\u001b[1;34m'FOULS CALLED AGAINST ROAD TEAM'\u001b[0m\u001b[1;33m,\u001b[0m \u001b[1;34m'FOULS CALLED AGAINST HOME TEAM'\u001b[0m\u001b[1;33m,\u001b[0m \u001b[1;34m'HOME GAMES WON'\u001b[0m\u001b[1;33m]\u001b[0m\u001b[1;33m]\u001b[0m \u001b[1;33m=\u001b[0m \u001b[0mref\u001b[0m\u001b[1;33m[\u001b[0m\u001b[1;33m[\u001b[0m\u001b[1;34m'EXPERIENCE (YEARS)'\u001b[0m\u001b[1;33m,\u001b[0m \u001b[1;34m'GAMES OFFICIATED'\u001b[0m\u001b[1;33m,\u001b[0m\u001b[1;34m'HOME TEAM WIN%'\u001b[0m\u001b[1;33m,\u001b[0m \u001b[1;34m'HOME TEAM POINTS DIFFERENTIAL'\u001b[0m\u001b[1;33m,\u001b[0m\u001b[1;34m'CALLED FOULS PER GAME'\u001b[0m\u001b[1;33m,\u001b[0m \u001b[1;34m'FOUL% AGAINST ROAD TEAMS'\u001b[0m\u001b[1;33m,\u001b[0m\u001b[1;34m'FOUL% AGAINST HOME TEAMS'\u001b[0m\u001b[1;33m,\u001b[0m \u001b[1;34m'FOUL DIFFERENTIAL'\u001b[0m\u001b[1;33m,\u001b[0m \u001b[1;34m'Home Rig Score'\u001b[0m\u001b[1;33m,\u001b[0m\u001b[1;34m'FOULS CALLED AGAINST ROAD TEAM'\u001b[0m\u001b[1;33m,\u001b[0m \u001b[1;34m'FOULS CALLED AGAINST HOME TEAM'\u001b[0m\u001b[1;33m,\u001b[0m\u001b[1;34m'HOME GAMES WON'\u001b[0m\u001b[1;33m]\u001b[0m\u001b[1;33m]\u001b[0m\u001b[1;33m.\u001b[0m\u001b[0mapply\u001b[0m\u001b[1;33m(\u001b[0m\u001b[0mpd\u001b[0m\u001b[1;33m.\u001b[0m\u001b[0mto_numeric\u001b[0m\u001b[1;33m)\u001b[0m\u001b[1;33m\u001b[0m\u001b[1;33m\u001b[0m\u001b[0m\n\u001b[0m\u001b[0;32m      2\u001b[0m \u001b[0mref\u001b[0m\u001b[1;33m\u001b[0m\u001b[1;33m\u001b[0m\u001b[0m\n",
      "\u001b[1;32m~\\anaconda3\\lib\\site-packages\\pandas\\core\\frame.py\u001b[0m in \u001b[0;36m__getitem__\u001b[1;34m(self, key)\u001b[0m\n\u001b[0;32m   3028\u001b[0m             \u001b[1;32mif\u001b[0m \u001b[0mis_iterator\u001b[0m\u001b[1;33m(\u001b[0m\u001b[0mkey\u001b[0m\u001b[1;33m)\u001b[0m\u001b[1;33m:\u001b[0m\u001b[1;33m\u001b[0m\u001b[1;33m\u001b[0m\u001b[0m\n\u001b[0;32m   3029\u001b[0m                 \u001b[0mkey\u001b[0m \u001b[1;33m=\u001b[0m \u001b[0mlist\u001b[0m\u001b[1;33m(\u001b[0m\u001b[0mkey\u001b[0m\u001b[1;33m)\u001b[0m\u001b[1;33m\u001b[0m\u001b[1;33m\u001b[0m\u001b[0m\n\u001b[1;32m-> 3030\u001b[1;33m             \u001b[0mindexer\u001b[0m \u001b[1;33m=\u001b[0m \u001b[0mself\u001b[0m\u001b[1;33m.\u001b[0m\u001b[0mloc\u001b[0m\u001b[1;33m.\u001b[0m\u001b[0m_get_listlike_indexer\u001b[0m\u001b[1;33m(\u001b[0m\u001b[0mkey\u001b[0m\u001b[1;33m,\u001b[0m \u001b[0maxis\u001b[0m\u001b[1;33m=\u001b[0m\u001b[1;36m1\u001b[0m\u001b[1;33m,\u001b[0m \u001b[0mraise_missing\u001b[0m\u001b[1;33m=\u001b[0m\u001b[1;32mTrue\u001b[0m\u001b[1;33m)\u001b[0m\u001b[1;33m[\u001b[0m\u001b[1;36m1\u001b[0m\u001b[1;33m]\u001b[0m\u001b[1;33m\u001b[0m\u001b[1;33m\u001b[0m\u001b[0m\n\u001b[0m\u001b[0;32m   3031\u001b[0m \u001b[1;33m\u001b[0m\u001b[0m\n\u001b[0;32m   3032\u001b[0m         \u001b[1;31m# take() does not accept boolean indexers\u001b[0m\u001b[1;33m\u001b[0m\u001b[1;33m\u001b[0m\u001b[1;33m\u001b[0m\u001b[0m\n",
      "\u001b[1;32m~\\anaconda3\\lib\\site-packages\\pandas\\core\\indexing.py\u001b[0m in \u001b[0;36m_get_listlike_indexer\u001b[1;34m(self, key, axis, raise_missing)\u001b[0m\n\u001b[0;32m   1264\u001b[0m             \u001b[0mkeyarr\u001b[0m\u001b[1;33m,\u001b[0m \u001b[0mindexer\u001b[0m\u001b[1;33m,\u001b[0m \u001b[0mnew_indexer\u001b[0m \u001b[1;33m=\u001b[0m \u001b[0max\u001b[0m\u001b[1;33m.\u001b[0m\u001b[0m_reindex_non_unique\u001b[0m\u001b[1;33m(\u001b[0m\u001b[0mkeyarr\u001b[0m\u001b[1;33m)\u001b[0m\u001b[1;33m\u001b[0m\u001b[1;33m\u001b[0m\u001b[0m\n\u001b[0;32m   1265\u001b[0m \u001b[1;33m\u001b[0m\u001b[0m\n\u001b[1;32m-> 1266\u001b[1;33m         \u001b[0mself\u001b[0m\u001b[1;33m.\u001b[0m\u001b[0m_validate_read_indexer\u001b[0m\u001b[1;33m(\u001b[0m\u001b[0mkeyarr\u001b[0m\u001b[1;33m,\u001b[0m \u001b[0mindexer\u001b[0m\u001b[1;33m,\u001b[0m \u001b[0maxis\u001b[0m\u001b[1;33m,\u001b[0m \u001b[0mraise_missing\u001b[0m\u001b[1;33m=\u001b[0m\u001b[0mraise_missing\u001b[0m\u001b[1;33m)\u001b[0m\u001b[1;33m\u001b[0m\u001b[1;33m\u001b[0m\u001b[0m\n\u001b[0m\u001b[0;32m   1267\u001b[0m         \u001b[1;32mreturn\u001b[0m \u001b[0mkeyarr\u001b[0m\u001b[1;33m,\u001b[0m \u001b[0mindexer\u001b[0m\u001b[1;33m\u001b[0m\u001b[1;33m\u001b[0m\u001b[0m\n\u001b[0;32m   1268\u001b[0m \u001b[1;33m\u001b[0m\u001b[0m\n",
      "\u001b[1;32m~\\anaconda3\\lib\\site-packages\\pandas\\core\\indexing.py\u001b[0m in \u001b[0;36m_validate_read_indexer\u001b[1;34m(self, key, indexer, axis, raise_missing)\u001b[0m\n\u001b[0;32m   1314\u001b[0m             \u001b[1;32mif\u001b[0m \u001b[0mraise_missing\u001b[0m\u001b[1;33m:\u001b[0m\u001b[1;33m\u001b[0m\u001b[1;33m\u001b[0m\u001b[0m\n\u001b[0;32m   1315\u001b[0m                 \u001b[0mnot_found\u001b[0m \u001b[1;33m=\u001b[0m \u001b[0mlist\u001b[0m\u001b[1;33m(\u001b[0m\u001b[0mset\u001b[0m\u001b[1;33m(\u001b[0m\u001b[0mkey\u001b[0m\u001b[1;33m)\u001b[0m \u001b[1;33m-\u001b[0m \u001b[0mset\u001b[0m\u001b[1;33m(\u001b[0m\u001b[0max\u001b[0m\u001b[1;33m)\u001b[0m\u001b[1;33m)\u001b[0m\u001b[1;33m\u001b[0m\u001b[1;33m\u001b[0m\u001b[0m\n\u001b[1;32m-> 1316\u001b[1;33m                 \u001b[1;32mraise\u001b[0m \u001b[0mKeyError\u001b[0m\u001b[1;33m(\u001b[0m\u001b[1;34mf\"{not_found} not in index\"\u001b[0m\u001b[1;33m)\u001b[0m\u001b[1;33m\u001b[0m\u001b[1;33m\u001b[0m\u001b[0m\n\u001b[0m\u001b[0;32m   1317\u001b[0m \u001b[1;33m\u001b[0m\u001b[0m\n\u001b[0;32m   1318\u001b[0m             \u001b[0mnot_found\u001b[0m \u001b[1;33m=\u001b[0m \u001b[0mkey\u001b[0m\u001b[1;33m[\u001b[0m\u001b[0mmissing_mask\u001b[0m\u001b[1;33m]\u001b[0m\u001b[1;33m\u001b[0m\u001b[1;33m\u001b[0m\u001b[0m\n",
      "\u001b[1;31mKeyError\u001b[0m: \"['FOULS CALLED AGAINST HOME TEAM', 'Home Rig Score', 'FOULS CALLED AGAINST ROAD TEAM', 'HOME GAMES WON'] not in index\""
     ]
    }
   ],
   "source": [
    "ref[['EXPERIENCE (YEARS)', 'GAMES OFFICIATED', 'HOME TEAM WIN%', 'HOME TEAM POINTS DIFFERENTIAL','CALLED FOULS PER GAME', 'FOUL% AGAINST ROAD TEAMS','FOUL% AGAINST HOME TEAMS', 'FOUL DIFFERENTIAL', 'Home Rig Score','FOULS CALLED AGAINST ROAD TEAM', 'FOULS CALLED AGAINST HOME TEAM', 'HOME GAMES WON']] = ref[['EXPERIENCE (YEARS)', 'GAMES OFFICIATED','HOME TEAM WIN%', 'HOME TEAM POINTS DIFFERENTIAL','CALLED FOULS PER GAME', 'FOUL% AGAINST ROAD TEAMS','FOUL% AGAINST HOME TEAMS', 'FOUL DIFFERENTIAL', 'Home Rig Score','FOULS CALLED AGAINST ROAD TEAM', 'FOULS CALLED AGAINST HOME TEAM','HOME GAMES WON']].apply(pd.to_numeric)\n",
    "ref"
   ]
  },
  {
   "cell_type": "code",
   "execution_count": 65,
   "metadata": {
    "colab": {
     "base_uri": "https://localhost:8080/",
     "height": 358
    },
    "id": "GkXFKjM7OZc8",
    "outputId": "3a39db4a-25ce-4f28-e8d0-8484e6448f4c"
   },
   "outputs": [
    {
     "ename": "ValueError",
     "evalue": "Incompatible indexer with Series",
     "output_type": "error",
     "traceback": [
      "\u001b[1;31m---------------------------------------------------------------------------\u001b[0m",
      "\u001b[1;31mValueError\u001b[0m                                Traceback (most recent call last)",
      "\u001b[1;32m<ipython-input-65-ed87e2d1271d>\u001b[0m in \u001b[0;36m<module>\u001b[1;34m\u001b[0m\n\u001b[0;32m      1\u001b[0m \u001b[1;32mfor\u001b[0m \u001b[0mindex\u001b[0m\u001b[1;33m,\u001b[0m \u001b[0mrow\u001b[0m \u001b[1;32min\u001b[0m \u001b[0mref\u001b[0m\u001b[1;33m.\u001b[0m\u001b[0miterrows\u001b[0m\u001b[1;33m(\u001b[0m\u001b[1;33m)\u001b[0m\u001b[1;33m:\u001b[0m\u001b[1;33m\u001b[0m\u001b[1;33m\u001b[0m\u001b[0m\n\u001b[1;32m----> 2\u001b[1;33m     \u001b[0mref\u001b[0m\u001b[1;33m.\u001b[0m\u001b[0mloc\u001b[0m\u001b[1;33m[\u001b[0m\u001b[0mindex\u001b[0m\u001b[1;33m,\u001b[0m \u001b[1;34m\"Home Rig Score\"\u001b[0m\u001b[1;33m]\u001b[0m \u001b[1;33m=\u001b[0m \u001b[0mref\u001b[0m\u001b[1;33m[\u001b[0m\u001b[1;34m'HOME TEAM WIN%'\u001b[0m\u001b[1;33m]\u001b[0m\u001b[1;33m*\u001b[0m\u001b[1;33m(\u001b[0m\u001b[0mref\u001b[0m\u001b[1;33m[\u001b[0m\u001b[1;34m'FOUL% AGAINST ROAD TEAMS'\u001b[0m\u001b[1;33m]\u001b[0m\u001b[1;33m*\u001b[0m\u001b[0mref\u001b[0m\u001b[1;33m[\u001b[0m\u001b[1;34m'HOME TEAM POINTS DIFFERENTIAL'\u001b[0m\u001b[1;33m]\u001b[0m\u001b[1;33m)\u001b[0m\u001b[1;33m\u001b[0m\u001b[1;33m\u001b[0m\u001b[0m\n\u001b[0m\u001b[0;32m      3\u001b[0m \u001b[1;33m\u001b[0m\u001b[0m\n",
      "\u001b[1;32m~\\anaconda3\\lib\\site-packages\\pandas\\core\\indexing.py\u001b[0m in \u001b[0;36m__setitem__\u001b[1;34m(self, key, value)\u001b[0m\n\u001b[0;32m    690\u001b[0m \u001b[1;33m\u001b[0m\u001b[0m\n\u001b[0;32m    691\u001b[0m         \u001b[0miloc\u001b[0m \u001b[1;33m=\u001b[0m \u001b[0mself\u001b[0m \u001b[1;32mif\u001b[0m \u001b[0mself\u001b[0m\u001b[1;33m.\u001b[0m\u001b[0mname\u001b[0m \u001b[1;33m==\u001b[0m \u001b[1;34m\"iloc\"\u001b[0m \u001b[1;32melse\u001b[0m \u001b[0mself\u001b[0m\u001b[1;33m.\u001b[0m\u001b[0mobj\u001b[0m\u001b[1;33m.\u001b[0m\u001b[0miloc\u001b[0m\u001b[1;33m\u001b[0m\u001b[1;33m\u001b[0m\u001b[0m\n\u001b[1;32m--> 692\u001b[1;33m         \u001b[0miloc\u001b[0m\u001b[1;33m.\u001b[0m\u001b[0m_setitem_with_indexer\u001b[0m\u001b[1;33m(\u001b[0m\u001b[0mindexer\u001b[0m\u001b[1;33m,\u001b[0m \u001b[0mvalue\u001b[0m\u001b[1;33m,\u001b[0m \u001b[0mself\u001b[0m\u001b[1;33m.\u001b[0m\u001b[0mname\u001b[0m\u001b[1;33m)\u001b[0m\u001b[1;33m\u001b[0m\u001b[1;33m\u001b[0m\u001b[0m\n\u001b[0m\u001b[0;32m    693\u001b[0m \u001b[1;33m\u001b[0m\u001b[0m\n\u001b[0;32m    694\u001b[0m     \u001b[1;32mdef\u001b[0m \u001b[0m_validate_key\u001b[0m\u001b[1;33m(\u001b[0m\u001b[0mself\u001b[0m\u001b[1;33m,\u001b[0m \u001b[0mkey\u001b[0m\u001b[1;33m,\u001b[0m \u001b[0maxis\u001b[0m\u001b[1;33m:\u001b[0m \u001b[0mint\u001b[0m\u001b[1;33m)\u001b[0m\u001b[1;33m:\u001b[0m\u001b[1;33m\u001b[0m\u001b[1;33m\u001b[0m\u001b[0m\n",
      "\u001b[1;32m~\\anaconda3\\lib\\site-packages\\pandas\\core\\indexing.py\u001b[0m in \u001b[0;36m_setitem_with_indexer\u001b[1;34m(self, indexer, value, name)\u001b[0m\n\u001b[0;32m   1633\u001b[0m         \u001b[1;32mif\u001b[0m \u001b[0mtake_split_path\u001b[0m\u001b[1;33m:\u001b[0m\u001b[1;33m\u001b[0m\u001b[1;33m\u001b[0m\u001b[0m\n\u001b[0;32m   1634\u001b[0m             \u001b[1;31m# We have to operate column-wise\u001b[0m\u001b[1;33m\u001b[0m\u001b[1;33m\u001b[0m\u001b[1;33m\u001b[0m\u001b[0m\n\u001b[1;32m-> 1635\u001b[1;33m             \u001b[0mself\u001b[0m\u001b[1;33m.\u001b[0m\u001b[0m_setitem_with_indexer_split_path\u001b[0m\u001b[1;33m(\u001b[0m\u001b[0mindexer\u001b[0m\u001b[1;33m,\u001b[0m \u001b[0mvalue\u001b[0m\u001b[1;33m,\u001b[0m \u001b[0mname\u001b[0m\u001b[1;33m)\u001b[0m\u001b[1;33m\u001b[0m\u001b[1;33m\u001b[0m\u001b[0m\n\u001b[0m\u001b[0;32m   1636\u001b[0m         \u001b[1;32melse\u001b[0m\u001b[1;33m:\u001b[0m\u001b[1;33m\u001b[0m\u001b[1;33m\u001b[0m\u001b[0m\n\u001b[0;32m   1637\u001b[0m             \u001b[0mself\u001b[0m\u001b[1;33m.\u001b[0m\u001b[0m_setitem_single_block\u001b[0m\u001b[1;33m(\u001b[0m\u001b[0mindexer\u001b[0m\u001b[1;33m,\u001b[0m \u001b[0mvalue\u001b[0m\u001b[1;33m,\u001b[0m \u001b[0mname\u001b[0m\u001b[1;33m)\u001b[0m\u001b[1;33m\u001b[0m\u001b[1;33m\u001b[0m\u001b[0m\n",
      "\u001b[1;32m~\\anaconda3\\lib\\site-packages\\pandas\\core\\indexing.py\u001b[0m in \u001b[0;36m_setitem_with_indexer_split_path\u001b[1;34m(self, indexer, value, name)\u001b[0m\n\u001b[0;32m   1652\u001b[0m \u001b[1;33m\u001b[0m\u001b[0m\n\u001b[0;32m   1653\u001b[0m         \u001b[1;32mif\u001b[0m \u001b[0misinstance\u001b[0m\u001b[1;33m(\u001b[0m\u001b[0mvalue\u001b[0m\u001b[1;33m,\u001b[0m \u001b[0mABCSeries\u001b[0m\u001b[1;33m)\u001b[0m \u001b[1;32mand\u001b[0m \u001b[0mname\u001b[0m \u001b[1;33m!=\u001b[0m \u001b[1;34m\"iloc\"\u001b[0m\u001b[1;33m:\u001b[0m\u001b[1;33m\u001b[0m\u001b[1;33m\u001b[0m\u001b[0m\n\u001b[1;32m-> 1654\u001b[1;33m             \u001b[0mvalue\u001b[0m \u001b[1;33m=\u001b[0m \u001b[0mself\u001b[0m\u001b[1;33m.\u001b[0m\u001b[0m_align_series\u001b[0m\u001b[1;33m(\u001b[0m\u001b[0mindexer\u001b[0m\u001b[1;33m,\u001b[0m \u001b[0mvalue\u001b[0m\u001b[1;33m)\u001b[0m\u001b[1;33m\u001b[0m\u001b[1;33m\u001b[0m\u001b[0m\n\u001b[0m\u001b[0;32m   1655\u001b[0m \u001b[1;33m\u001b[0m\u001b[0m\n\u001b[0;32m   1656\u001b[0m         \u001b[1;31m# Ensure we have something we can iterate over\u001b[0m\u001b[1;33m\u001b[0m\u001b[1;33m\u001b[0m\u001b[1;33m\u001b[0m\u001b[0m\n",
      "\u001b[1;32m~\\anaconda3\\lib\\site-packages\\pandas\\core\\indexing.py\u001b[0m in \u001b[0;36m_align_series\u001b[1;34m(self, indexer, ser, multiindex_indexer)\u001b[0m\n\u001b[0;32m   2028\u001b[0m             \u001b[1;32mreturn\u001b[0m \u001b[0mser\u001b[0m\u001b[1;33m.\u001b[0m\u001b[0mreindex\u001b[0m\u001b[1;33m(\u001b[0m\u001b[0max\u001b[0m\u001b[1;33m)\u001b[0m\u001b[1;33m.\u001b[0m\u001b[0m_values\u001b[0m\u001b[1;33m\u001b[0m\u001b[1;33m\u001b[0m\u001b[0m\n\u001b[0;32m   2029\u001b[0m \u001b[1;33m\u001b[0m\u001b[0m\n\u001b[1;32m-> 2030\u001b[1;33m         \u001b[1;32mraise\u001b[0m \u001b[0mValueError\u001b[0m\u001b[1;33m(\u001b[0m\u001b[1;34m\"Incompatible indexer with Series\"\u001b[0m\u001b[1;33m)\u001b[0m\u001b[1;33m\u001b[0m\u001b[1;33m\u001b[0m\u001b[0m\n\u001b[0m\u001b[0;32m   2031\u001b[0m \u001b[1;33m\u001b[0m\u001b[0m\n\u001b[0;32m   2032\u001b[0m     \u001b[1;32mdef\u001b[0m \u001b[0m_align_frame\u001b[0m\u001b[1;33m(\u001b[0m\u001b[0mself\u001b[0m\u001b[1;33m,\u001b[0m \u001b[0mindexer\u001b[0m\u001b[1;33m,\u001b[0m \u001b[0mdf\u001b[0m\u001b[1;33m:\u001b[0m \u001b[1;34m\"DataFrame\"\u001b[0m\u001b[1;33m)\u001b[0m\u001b[1;33m:\u001b[0m\u001b[1;33m\u001b[0m\u001b[1;33m\u001b[0m\u001b[0m\n",
      "\u001b[1;31mValueError\u001b[0m: Incompatible indexer with Series"
     ]
    }
   ],
   "source": [
    "for index, row in ref.iterrows():\n",
    "    ref.loc[index, \"Home Rig Score\"] = ref['HOME TEAM WIN%']*(ref['FOUL% AGAINST ROAD TEAMS']*ref['HOME TEAM POINTS DIFFERENTIAL'])\n",
    "    "
   ]
  },
  {
   "cell_type": "code",
   "execution_count": 59,
   "metadata": {
    "id": "iVXuPla-dzXd"
   },
   "outputs": [
    {
     "data": {
      "text/html": [
       "<div>\n",
       "<style scoped>\n",
       "    .dataframe tbody tr th:only-of-type {\n",
       "        vertical-align: middle;\n",
       "    }\n",
       "\n",
       "    .dataframe tbody tr th {\n",
       "        vertical-align: top;\n",
       "    }\n",
       "\n",
       "    .dataframe thead th {\n",
       "        text-align: right;\n",
       "    }\n",
       "</style>\n",
       "<table border=\"1\" class=\"dataframe\">\n",
       "  <thead>\n",
       "    <tr style=\"text-align: right;\">\n",
       "      <th></th>\n",
       "      <th>REFEREE</th>\n",
       "      <th>ROLE</th>\n",
       "      <th>EXPERIENCE (YEARS)</th>\n",
       "      <th>GAMES OFFICIATED</th>\n",
       "      <th>HOME TEAM WIN%</th>\n",
       "      <th>HOME TEAM POINTS DIFFERENTIAL</th>\n",
       "      <th>CALLED FOULS PER GAME</th>\n",
       "      <th>FOUL% AGAINST ROAD TEAMS</th>\n",
       "      <th>FOUL% AGAINST HOME TEAMS</th>\n",
       "      <th>FOUL DIFFERENTIAL</th>\n",
       "      <th>Home Rig Score</th>\n",
       "      <th>FOULS CALLED AGAINST ROAD TEAM</th>\n",
       "      <th>FOULS CALLED AGAINST HOME TEAM</th>\n",
       "      <th>HOME GAMES WON</th>\n",
       "    </tr>\n",
       "  </thead>\n",
       "  <tbody>\n",
       "    <tr>\n",
       "      <th>0</th>\n",
       "      <td>Ray Acosta</td>\n",
       "      <td>CREW</td>\n",
       "      <td>5</td>\n",
       "      <td>17</td>\n",
       "      <td>0.588</td>\n",
       "      <td>2.353</td>\n",
       "      <td>37.529</td>\n",
       "      <td>49.687</td>\n",
       "      <td>50.314</td>\n",
       "      <td>-0.2</td>\n",
       "      <td>NaN</td>\n",
       "      <td>1864.703423</td>\n",
       "      <td>1888.234106</td>\n",
       "      <td>9.996</td>\n",
       "    </tr>\n",
       "    <tr>\n",
       "      <th>1</th>\n",
       "      <td>Dedric Taylor</td>\n",
       "      <td>CREW</td>\n",
       "      <td>9</td>\n",
       "      <td>15</td>\n",
       "      <td>0.667</td>\n",
       "      <td>6.800</td>\n",
       "      <td>40.533</td>\n",
       "      <td>53.290</td>\n",
       "      <td>46.711</td>\n",
       "      <td>2.7</td>\n",
       "      <td>NaN</td>\n",
       "      <td>2160.003570</td>\n",
       "      <td>1893.336963</td>\n",
       "      <td>10.005</td>\n",
       "    </tr>\n",
       "    <tr>\n",
       "      <th>2</th>\n",
       "      <td>Brandon Adair</td>\n",
       "      <td>CREW</td>\n",
       "      <td>5</td>\n",
       "      <td>15</td>\n",
       "      <td>0.667</td>\n",
       "      <td>4.067</td>\n",
       "      <td>34.800</td>\n",
       "      <td>52.299</td>\n",
       "      <td>47.701</td>\n",
       "      <td>1.6</td>\n",
       "      <td>NaN</td>\n",
       "      <td>1820.005200</td>\n",
       "      <td>1659.994800</td>\n",
       "      <td>10.005</td>\n",
       "    </tr>\n",
       "    <tr>\n",
       "      <th>3</th>\n",
       "      <td>Nick Buchert</td>\n",
       "      <td>CREW</td>\n",
       "      <td>12</td>\n",
       "      <td>14</td>\n",
       "      <td>0.429</td>\n",
       "      <td>1.357</td>\n",
       "      <td>35.500</td>\n",
       "      <td>47.887</td>\n",
       "      <td>52.113</td>\n",
       "      <td>-1.5</td>\n",
       "      <td>NaN</td>\n",
       "      <td>1699.988500</td>\n",
       "      <td>1850.011500</td>\n",
       "      <td>6.006</td>\n",
       "    </tr>\n",
       "    <tr>\n",
       "      <th>4</th>\n",
       "      <td>Scott Twardoski</td>\n",
       "      <td>CREW</td>\n",
       "      <td>12</td>\n",
       "      <td>14</td>\n",
       "      <td>0.571</td>\n",
       "      <td>2.786</td>\n",
       "      <td>38.643</td>\n",
       "      <td>49.538</td>\n",
       "      <td>50.462</td>\n",
       "      <td>-0.4</td>\n",
       "      <td>NaN</td>\n",
       "      <td>1914.296934</td>\n",
       "      <td>1950.003066</td>\n",
       "      <td>7.994</td>\n",
       "    </tr>\n",
       "    <tr>\n",
       "      <th>...</th>\n",
       "      <td>...</td>\n",
       "      <td>...</td>\n",
       "      <td>...</td>\n",
       "      <td>...</td>\n",
       "      <td>...</td>\n",
       "      <td>...</td>\n",
       "      <td>...</td>\n",
       "      <td>...</td>\n",
       "      <td>...</td>\n",
       "      <td>...</td>\n",
       "      <td>...</td>\n",
       "      <td>...</td>\n",
       "      <td>...</td>\n",
       "      <td>...</td>\n",
       "    </tr>\n",
       "    <tr>\n",
       "      <th>59</th>\n",
       "      <td>Josh Tiven</td>\n",
       "      <td>CHIEF</td>\n",
       "      <td>12</td>\n",
       "      <td>7</td>\n",
       "      <td>0.714</td>\n",
       "      <td>10.286</td>\n",
       "      <td>35.857</td>\n",
       "      <td>48.207</td>\n",
       "      <td>51.793</td>\n",
       "      <td>-1.3</td>\n",
       "      <td>NaN</td>\n",
       "      <td>1728.558399</td>\n",
       "      <td>1857.141601</td>\n",
       "      <td>4.998</td>\n",
       "    </tr>\n",
       "    <tr>\n",
       "      <th>60</th>\n",
       "      <td>Zach Zarba</td>\n",
       "      <td>CHIEF</td>\n",
       "      <td>19</td>\n",
       "      <td>7</td>\n",
       "      <td>0.571</td>\n",
       "      <td>-0.143</td>\n",
       "      <td>32.571</td>\n",
       "      <td>52.194</td>\n",
       "      <td>47.808</td>\n",
       "      <td>1.4</td>\n",
       "      <td>NaN</td>\n",
       "      <td>1700.010774</td>\n",
       "      <td>1557.154368</td>\n",
       "      <td>3.997</td>\n",
       "    </tr>\n",
       "    <tr>\n",
       "      <th>61</th>\n",
       "      <td>Brian Forte</td>\n",
       "      <td>CHIEF</td>\n",
       "      <td>16</td>\n",
       "      <td>7</td>\n",
       "      <td>0.429</td>\n",
       "      <td>-4.857</td>\n",
       "      <td>40.143</td>\n",
       "      <td>49.110</td>\n",
       "      <td>50.889</td>\n",
       "      <td>-0.7</td>\n",
       "      <td>NaN</td>\n",
       "      <td>1971.422730</td>\n",
       "      <td>2042.837127</td>\n",
       "      <td>3.003</td>\n",
       "    </tr>\n",
       "    <tr>\n",
       "      <th>62</th>\n",
       "      <td>Brian Forte</td>\n",
       "      <td>CREW</td>\n",
       "      <td>16</td>\n",
       "      <td>7</td>\n",
       "      <td>0.429</td>\n",
       "      <td>-3.429</td>\n",
       "      <td>38.714</td>\n",
       "      <td>46.495</td>\n",
       "      <td>53.506</td>\n",
       "      <td>-2.7</td>\n",
       "      <td>NaN</td>\n",
       "      <td>1800.007430</td>\n",
       "      <td>2071.431284</td>\n",
       "      <td>3.003</td>\n",
       "    </tr>\n",
       "    <tr>\n",
       "      <th>63</th>\n",
       "      <td>Matt Boland</td>\n",
       "      <td>CREW</td>\n",
       "      <td>23</td>\n",
       "      <td>7</td>\n",
       "      <td>0.429</td>\n",
       "      <td>3.714</td>\n",
       "      <td>40.571</td>\n",
       "      <td>49.296</td>\n",
       "      <td>50.705</td>\n",
       "      <td>-0.6</td>\n",
       "      <td>NaN</td>\n",
       "      <td>1999.988016</td>\n",
       "      <td>2057.152555</td>\n",
       "      <td>3.003</td>\n",
       "    </tr>\n",
       "  </tbody>\n",
       "</table>\n",
       "<p>64 rows × 14 columns</p>\n",
       "</div>"
      ],
      "text/plain": [
       "            REFEREE   ROLE  EXPERIENCE (YEARS)  GAMES OFFICIATED  \\\n",
       "0        Ray Acosta   CREW                   5                17   \n",
       "1     Dedric Taylor   CREW                   9                15   \n",
       "2     Brandon Adair   CREW                   5                15   \n",
       "3      Nick Buchert   CREW                  12                14   \n",
       "4   Scott Twardoski   CREW                  12                14   \n",
       "..              ...    ...                 ...               ...   \n",
       "59       Josh Tiven  CHIEF                  12                 7   \n",
       "60       Zach Zarba  CHIEF                  19                 7   \n",
       "61      Brian Forte  CHIEF                  16                 7   \n",
       "62      Brian Forte   CREW                  16                 7   \n",
       "63      Matt Boland   CREW                  23                 7   \n",
       "\n",
       "    HOME TEAM WIN%  HOME TEAM POINTS DIFFERENTIAL  CALLED FOULS PER GAME  \\\n",
       "0            0.588                          2.353                 37.529   \n",
       "1            0.667                          6.800                 40.533   \n",
       "2            0.667                          4.067                 34.800   \n",
       "3            0.429                          1.357                 35.500   \n",
       "4            0.571                          2.786                 38.643   \n",
       "..             ...                            ...                    ...   \n",
       "59           0.714                         10.286                 35.857   \n",
       "60           0.571                         -0.143                 32.571   \n",
       "61           0.429                         -4.857                 40.143   \n",
       "62           0.429                         -3.429                 38.714   \n",
       "63           0.429                          3.714                 40.571   \n",
       "\n",
       "    FOUL% AGAINST ROAD TEAMS  FOUL% AGAINST HOME TEAMS  FOUL DIFFERENTIAL  \\\n",
       "0                     49.687                    50.314               -0.2   \n",
       "1                     53.290                    46.711                2.7   \n",
       "2                     52.299                    47.701                1.6   \n",
       "3                     47.887                    52.113               -1.5   \n",
       "4                     49.538                    50.462               -0.4   \n",
       "..                       ...                       ...                ...   \n",
       "59                    48.207                    51.793               -1.3   \n",
       "60                    52.194                    47.808                1.4   \n",
       "61                    49.110                    50.889               -0.7   \n",
       "62                    46.495                    53.506               -2.7   \n",
       "63                    49.296                    50.705               -0.6   \n",
       "\n",
       "    Home Rig Score  FOULS CALLED AGAINST ROAD TEAM  \\\n",
       "0              NaN                     1864.703423   \n",
       "1              NaN                     2160.003570   \n",
       "2              NaN                     1820.005200   \n",
       "3              NaN                     1699.988500   \n",
       "4              NaN                     1914.296934   \n",
       "..             ...                             ...   \n",
       "59             NaN                     1728.558399   \n",
       "60             NaN                     1700.010774   \n",
       "61             NaN                     1971.422730   \n",
       "62             NaN                     1800.007430   \n",
       "63             NaN                     1999.988016   \n",
       "\n",
       "    FOULS CALLED AGAINST HOME TEAM  HOME GAMES WON  \n",
       "0                      1888.234106           9.996  \n",
       "1                      1893.336963          10.005  \n",
       "2                      1659.994800          10.005  \n",
       "3                      1850.011500           6.006  \n",
       "4                      1950.003066           7.994  \n",
       "..                             ...             ...  \n",
       "59                     1857.141601           4.998  \n",
       "60                     1557.154368           3.997  \n",
       "61                     2042.837127           3.003  \n",
       "62                     2071.431284           3.003  \n",
       "63                     2057.152555           3.003  \n",
       "\n",
       "[64 rows x 14 columns]"
      ]
     },
     "execution_count": 59,
     "metadata": {},
     "output_type": "execute_result"
    }
   ],
   "source": [
    "ref.sort_values(by=['Home Rig Score'], ascending=False, inplace=True)\n",
    "ref.drop(['TOTAL POINTS PER GAME'], axis=1, inplace=True)\n",
    "ref['FOULS CALLED AGAINST ROAD TEAM'] = ref['FOUL% AGAINST ROAD TEAMS']*ref['CALLED FOULS PER GAME']\n",
    "ref['FOULS CALLED AGAINST HOME TEAM'] = ref['FOUL% AGAINST HOME TEAMS']*ref['CALLED FOULS PER GAME']\n",
    "ref['HOME GAMES WON'] = ref['HOME TEAM WIN%']*ref['GAMES OFFICIATED']\n",
    "ref"
   ]
  },
  {
   "cell_type": "code",
   "execution_count": 61,
   "metadata": {
    "colab": {
     "base_uri": "https://localhost:8080/",
     "height": 561
    },
    "id": "eyvovyQDbGyT",
    "outputId": "f5f4f42c-7e2c-4b1d-aa41-abee9d5135e4"
   },
   "outputs": [
    {
     "data": {
      "image/png": "[encoded data removed]",
      "text/plain": [
       "<Figure size 432x288 with 1 Axes>"
      ]
     },
     "metadata": {
      "needs_background": "light"
     },
     "output_type": "display_data"
    }
   ],
   "source": [
    "x = ref['FOULS CALLED AGAINST ROAD TEAM']\n",
    "y = ref['HOME GAMES WON']\n",
    "\n",
    "plt.scatter(x, y)\n",
    "plt.title('FOULS CALLED AGAINST ROAD TEAMS vs. HOME GAMES WON', fontdict={'fontsize':16, 'fontweight':'bold'})\n",
    "plt.xlabel('FOULS CALLED VS ROAD TEAM', fontdict={'fontweight':'bold'})\n",
    "plt.ylabel('HOME TEAM WINS', fontdict={'fontweight':'bold'})\n",
    "plt.show()"
   ]
  },
  {
   "cell_type": "code",
   "execution_count": 48,
   "metadata": {
    "colab": {
     "base_uri": "https://localhost:8080/"
    },
    "id": "zOs0kUgJgA5w",
    "outputId": "5223c1e2-16f7-4898-a90a-96179cfb056b"
   },
   "outputs": [
    {
     "ename": "KeyError",
     "evalue": "\"None of ['REFEREE EXPERIENCE (YEARS)', 'HOME RIG SCORE'] are in the columns\"",
     "output_type": "error",
     "traceback": [
      "\u001b[1;31m---------------------------------------------------------------------------\u001b[0m",
      "\u001b[1;31mKeyError\u001b[0m                                  Traceback (most recent call last)",
      "\u001b[1;32m<ipython-input-48-b7ea334bab54>\u001b[0m in \u001b[0;36m<module>\u001b[1;34m\u001b[0m\n\u001b[1;32m----> 1\u001b[1;33m \u001b[0mref\u001b[0m\u001b[1;33m.\u001b[0m\u001b[0mset_index\u001b[0m\u001b[1;33m(\u001b[0m\u001b[1;33m[\u001b[0m\u001b[1;34m'REFEREE EXPERIENCE (YEARS)'\u001b[0m\u001b[1;33m,\u001b[0m \u001b[1;34m'GAMES OFFICIATED'\u001b[0m\u001b[1;33m,\u001b[0m \u001b[1;34m'HOME TEAM WIN%'\u001b[0m\u001b[1;33m,\u001b[0m \u001b[1;34m'HOME TEAM POINTS DIFFERENTIAL'\u001b[0m\u001b[1;33m,\u001b[0m \u001b[1;34m'CALLED FOULS PER GAME'\u001b[0m\u001b[1;33m,\u001b[0m \u001b[1;34m'FOUL% AGAINST ROAD TEAMS'\u001b[0m\u001b[1;33m,\u001b[0m \u001b[1;34m'FOUL% AGAINST HOME TEAMS'\u001b[0m\u001b[1;33m,\u001b[0m \u001b[1;34m'FOUL DIFFERENTIAL'\u001b[0m\u001b[1;33m,\u001b[0m \u001b[1;34m'HOME RIG SCORE'\u001b[0m\u001b[1;33m]\u001b[0m\u001b[1;33m,\u001b[0m \u001b[0minplace\u001b[0m\u001b[1;33m=\u001b[0m\u001b[1;32mTrue\u001b[0m\u001b[1;33m)\u001b[0m\u001b[1;33m\u001b[0m\u001b[1;33m\u001b[0m\u001b[0m\n\u001b[0m",
      "\u001b[1;32m~\\anaconda3\\lib\\site-packages\\pandas\\core\\frame.py\u001b[0m in \u001b[0;36mset_index\u001b[1;34m(self, keys, drop, append, inplace, verify_integrity)\u001b[0m\n\u001b[0;32m   4725\u001b[0m \u001b[1;33m\u001b[0m\u001b[0m\n\u001b[0;32m   4726\u001b[0m         \u001b[1;32mif\u001b[0m \u001b[0mmissing\u001b[0m\u001b[1;33m:\u001b[0m\u001b[1;33m\u001b[0m\u001b[1;33m\u001b[0m\u001b[0m\n\u001b[1;32m-> 4727\u001b[1;33m             \u001b[1;32mraise\u001b[0m \u001b[0mKeyError\u001b[0m\u001b[1;33m(\u001b[0m\u001b[1;34mf\"None of {missing} are in the columns\"\u001b[0m\u001b[1;33m)\u001b[0m\u001b[1;33m\u001b[0m\u001b[1;33m\u001b[0m\u001b[0m\n\u001b[0m\u001b[0;32m   4728\u001b[0m \u001b[1;33m\u001b[0m\u001b[0m\n\u001b[0;32m   4729\u001b[0m         \u001b[1;32mif\u001b[0m \u001b[0minplace\u001b[0m\u001b[1;33m:\u001b[0m\u001b[1;33m\u001b[0m\u001b[1;33m\u001b[0m\u001b[0m\n",
      "\u001b[1;31mKeyError\u001b[0m: \"None of ['REFEREE EXPERIENCE (YEARS)', 'HOME RIG SCORE'] are in the columns\""
     ]
    }
   ],
   "source": [
    "ref.set_index(['REFEREE EXPERIENCE (YEARS)', 'GAMES OFFICIATED', 'HOME TEAM WIN%', 'HOME TEAM POINTS DIFFERENTIAL', 'CALLED FOULS PER GAME', 'FOUL% AGAINST ROAD TEAMS', 'FOUL% AGAINST HOME TEAMS', 'FOUL DIFFERENTIAL', 'HOME RIG SCORE'], inplace=True)"
   ]
  },
  {
   "cell_type": "code",
   "execution_count": null,
   "metadata": {
    "id": "E7DsrhPkhWbO"
   },
   "outputs": [],
   "source": [
    "ref"
   ]
  },
  {
   "cell_type": "code",
   "execution_count": null,
   "metadata": {},
   "outputs": [],
   "source": []
  }
 ],
 "metadata": {
  "colab": {
   "name": "Most Rigged Ref",
   "provenance": []
  },
  "kernelspec": {
   "display_name": "Python 3",
   "language": "python",
   "name": "python3"
  },
  "language_info": {
   "codemirror_mode": {
    "name": "ipython",
    "version": 3
   },
   "file_extension": ".py",
   "mimetype": "text/x-python",
   "name": "python",
   "nbconvert_exporter": "python",
   "pygments_lexer": "ipython3",
   "version": "3.8.8"
  }
 },
 "nbformat": 4,
 "nbformat_minor": 4
}
