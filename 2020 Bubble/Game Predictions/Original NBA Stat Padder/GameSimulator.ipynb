{
 "cells": [
  {
   "cell_type": "code",
   "execution_count": 13,
   "metadata": {},
   "outputs": [
    {
     "name": "stdout",
     "output_type": "stream",
     "text": [
      "Hello World\n"
     ]
    }
   ],
   "source": [
    "# -*- coding: utf-8 -*-\n",
    "\"\"\"\n",
    "Created on Sat Nov 17 13:02:06 2018\n",
    "@author: Ken\n",
    "\n",
    "Modified by MinhKhang Nguyen\n",
    "July 2020\n",
    "\"\"\""
   ]
  },
  {
   "cell_type": "code",
   "execution_count": 10,
   "metadata": {},
   "outputs": [],
   "source": [
    "import pandas as pd \n",
    "import random as rnd\n",
    "import numpy as np \n",
    "import matplotlib.pyplot as plt"
   ]
  },
  {
   "cell_type": "code",
   "execution_count": 11,
   "metadata": {},
   "outputs": [],
   "source": [
    "class Team:\n",
    "    \"\"\"Team creates an object that can be passed into the simulation. Takes a Team Name (String)\n",
    "    points (list), and opp_points (List) \"\"\"\n",
    "    \n",
    "    def __init__(self, TeamName,points, opp_points):\n",
    "        self.TeamName = TeamName\n",
    "        self.points = points\n",
    "        self.opp_points = opp_points\n",
    "    \n",
    "    #Returns avg of points\n",
    "    def pointsavg(self):\n",
    "        return np.mean(self.points)\n",
    "    \n",
    "    #Returns standard deviation of points\n",
    "    def pointsstd(self):\n",
    "        return np.std(self.points)\n",
    "    #returns avg of opponent points\n",
    "    def opp_pointsavg(self):\n",
    "        return np.mean(self.opp_points)\n",
    "    #returns standard deviation of opponent points \n",
    "    def opp_pointsstd(self):\n",
    "        return np.std(self.opp_points)"
   ]
  },
  {
   "cell_type": "code",
   "execution_count": 12,
   "metadata": {},
   "outputs": [],
   "source": [
    "class MatchupSimulator:\n",
    "    \"\"\" Simulates single game outcomes as well as multiple outcomes\"\"\"\n",
    "    def __init__(self, Team1,Team2):\n",
    "        self.Team1 = Team1\n",
    "        self.Team2 = Team2\n",
    "        self.results = []\n",
    "    \n",
    "    #Simulates a single game returns 1 if team 1 wins, returns -1 if Team 2 wins, and returns 0 if the game is tied\n",
    "    def gameSim(self):\n",
    "        #Averages the random sample of a teams points with a random sample of the number of points the opponent allows\n",
    "        #Randomly samples from the two gaussian distributions to produce a probabilistic outcome\n",
    "        T1 = (rnd.gauss(self.Team1.pointsavg(),self.Team1.pointsstd())+ rnd.gauss(self.Team2.opp_pointsavg(),self.Team2.opp_pointsstd()))/2\n",
    "        T2 = (rnd.gauss(self.Team2.pointsavg(),self.Team2.pointsstd())+ rnd.gauss(self.Team1.opp_pointsavg(),self.Team1.opp_pointsstd()))/2\n",
    "        if int(round(T1)) > int(round(T2)):\n",
    "            return 1\n",
    "        elif int(round(T1)) < int(round(T2)):\n",
    "            return -1\n",
    "        else: return 0\n",
    "        \n",
    "    def gamesSim(self,number_simulations):\n",
    "        gamesout = []\n",
    "        team1win = 0\n",
    "        team2win = 0\n",
    "        tie = 0\n",
    "        for i in range(number_simulations):\n",
    "            #calls the pervious game simulator and aggregates results\n",
    "            gm = self.gameSim()\n",
    "            gamesout.append(gm)\n",
    "            if gm == 1:\n",
    "                team1win +=1 \n",
    "            elif gm == -1:\n",
    "                team2win +=1\n",
    "            else: tie +=1 \n",
    "        print(self.Team1.TeamName + ' Win ', team1win/(team1win+team2win+tie),'%')\n",
    "        print(self.Team2.TeamName + ' Win ', team2win/(team1win+team2win+tie),'%')\n",
    "        print('Tie ', tie/(team1win+team2win+tie), '%')\n",
    "        print('Number of Simulations: ',number_simulations)\n",
    "        #can see all results using self.results\n",
    "        self.results = gamesout"
   ]
  }
 ],
 "metadata": {
  "kernelspec": {
   "display_name": "Python 3",
   "language": "python",
   "name": "python3"
  },
  "language_info": {
   "codemirror_mode": {
    "name": "ipython",
    "version": 3
   },
   "file_extension": ".py",
   "mimetype": "text/x-python",
   "name": "python",
   "nbconvert_exporter": "python",
   "pygments_lexer": "ipython3",
   "version": "3.7.6"
  }
 },
 "nbformat": 4,
 "nbformat_minor": 4
}
