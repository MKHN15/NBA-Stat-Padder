{
 "cells": [
  {
   "cell_type": "code",
   "execution_count": 210,
   "metadata": {},
   "outputs": [],
   "source": [
    "import pandas as pd \n",
    "import random as rnd\n",
    "import numpy as np \n",
    "import matplotlib.pyplot as plt"
   ]
  },
  {
   "cell_type": "code",
   "execution_count": 211,
   "metadata": {},
   "outputs": [],
   "source": [
    "gdf = pd.read_csv('realplayoffs.csv')"
   ]
  },
  {
   "cell_type": "code",
   "execution_count": 212,
   "metadata": {},
   "outputs": [
    {
     "data": {
      "text/plain": [
       "Index(['TEAM', 'GP', 'W', 'L', 'WINP', 'MIN', 'PTS', 'FGM', 'FGA', 'FGP',\n",
       "       'TPM', 'TPA', 'TPP', 'FTM', 'FTA', 'FTP', 'OREB', 'DREB', 'REB', 'AST',\n",
       "       'TOV', 'STL', 'BLK', 'BLKA', 'PF', 'PFD', 'PM', 'ORTG', 'DRTG', 'CWINP',\n",
       "       'ORNK', 'DRNK', 'Unnamed: 32', 'Tm', 'Unnamed: 34', 'Game', 'Date',\n",
       "       'Home/Away', 'Opp', 'Result', 'TeamPTS', 'OpponentPTS', 'TeamFG',\n",
       "       'TeamFGA', 'TeamFGP', 'Team3P', 'Team3PA', 'Team3PP', 'TeamFT',\n",
       "       'TeamFTA', 'TeamFTP', 'Unnamed: 51', 'Unnamed: 52', 'Unnamed: 53',\n",
       "       'Unnamed: 54', 'Unnamed: 55', 'Unnamed: 56', 'Unnamed: 57',\n",
       "       'Unnamed: 58', 'OpponentFG', 'OpponentFGA', 'OpponentFGP', 'Opponent3P',\n",
       "       'Opponent3PA', 'Opponent3PP', 'OpponentFT', 'OpponentFTA',\n",
       "       'OpponentFTP', 'Unnamed: 68', 'Unnamed: 69', 'Unnamed: 70',\n",
       "       'Unnamed: 71', 'Unnamed: 72', 'Unnamed: 73', 'Unnamed: 74'],\n",
       "      dtype='object')"
      ]
     },
     "execution_count": 212,
     "metadata": {},
     "output_type": "execute_result"
    }
   ],
   "source": [
    "gdf.columns"
   ]
  },
  {
   "cell_type": "code",
   "execution_count": 213,
   "metadata": {},
   "outputs": [],
   "source": [
    "MILdf = gdf[gdf.TEAM == 'MIL']"
   ]
  },
  {
   "cell_type": "code",
   "execution_count": 214,
   "metadata": {},
   "outputs": [
    {
     "name": "stdout",
     "output_type": "stream",
     "text": [
      "MIL Win%  0.767\n",
      "MIL Avg. Points  118.7\n",
      "MIL FG%  47.6\n",
      "MIL 3P%  35.5\n",
      "MIL FT%  74.2\n",
      "MIL Def. Reb.  42.2\n",
      "MIL Avg. Assists  25.9\n",
      "MIL Avg. Turnovers  15.1\n",
      "MIL Avg. Steals  7.2\n",
      "MIL Avg. Blocks  5.9\n",
      "MIL Avg. Personal Fouls Drawn  21.7\n",
      "MIL Off. Rtg  111.9\n",
      "MIL Def. Rtg  102.5\n",
      "MIL Clutch Win%  0.708\n",
      "MIL Off. Rank  8.0\n",
      "MIL Def. Rank 1.0\n",
      "53.57164868762113\n"
     ]
    }
   ],
   "source": [
    "MIL_winpct = MILdf.WINP.mean()\n",
    "MIL_meanpts = MILdf.PTS.mean()\n",
    "MIL_fgp = MILdf.FGP.mean()\n",
    "MIL_tpp = MILdf.TPP.mean()\n",
    "MIL_ftp = MILdf.FTP.mean()\n",
    "MIL_dreb = MILdf.DREB.mean()\n",
    "MIL_ast = MILdf.AST.mean()\n",
    "MIL_tov = MILdf.TOV.mean()\n",
    "MIL_stl = MILdf.STL.mean()\n",
    "MIL_blk = MILdf.BLK.mean()\n",
    "MIL_pfd = MILdf.PFD.mean()\n",
    "MIL_offrtg = MILdf.ORTG.mean()\n",
    "MIL_defrtg = MILdf.DRTG.mean()\n",
    "MIL_clutchwinpct = MILdf.CWINP.mean()\n",
    "MIL_ornk = MILdf.ORNK.mean()\n",
    "MIL_drnk = MILdf.DRNK.mean()\n",
    "\n",
    "\n",
    "print(\"MIL Win% \", MIL_winpct)\n",
    "print(\"MIL Avg. Points \", MIL_meanpts)\n",
    "print(\"MIL FG% \", MIL_fgp)\n",
    "print(\"MIL 3P% \", MIL_tpp)\n",
    "print(\"MIL FT% \", MIL_ftp)\n",
    "print(\"MIL Def. Reb. \", MIL_dreb)\n",
    "print(\"MIL Avg. Assists \", MIL_ast)\n",
    "print(\"MIL Avg. Turnovers \", MIL_tov)\n",
    "print(\"MIL Avg. Steals \", MIL_stl)\n",
    "print(\"MIL Avg. Blocks \", MIL_blk)\n",
    "print(\"MIL Avg. Personal Fouls Drawn \", MIL_pfd)\n",
    "print(\"MIL Off. Rtg \", MIL_offrtg)\n",
    "print(\"MIL Def. Rtg \", MIL_defrtg)\n",
    "print(\"MIL Clutch Win% \", MIL_clutchwinpct)\n",
    "print(\"MIL Off. Rank \", MIL_ornk)\n",
    "print(\"MIL Def. Rank\", MIL_drnk)\n",
    "\n",
    "#/(MIL_ornk+MIL_drnk)\n",
    "MIL_scoring = MIL_meanpts*(MIL_fgp*MIL_tpp*MIL_ftp+MIL_offrtg)\n",
    "MIL_misc = MIL_scoring+MIL_dreb+MIL_ast+MIL_stl+MIL_blk+MIL_pfd+MIL_defrtg\n",
    "MIL_top = MIL_misc*MIL_winpct*MIL_clutchwinpct\n",
    "MIL_score = (MIL_top/(MIL_tov*10000))\n",
    "MIL_score\n",
    "\n",
    "print(MIL_score)"
   ]
  }
 ],
 "metadata": {
  "kernelspec": {
   "display_name": "Python 3",
   "language": "python",
   "name": "python3"
  },
  "language_info": {
   "codemirror_mode": {
    "name": "ipython",
    "version": 3
   },
   "file_extension": ".py",
   "mimetype": "text/x-python",
   "name": "python",
   "nbconvert_exporter": "python",
   "pygments_lexer": "ipython3",
   "version": "3.7.6"
  }
 },
 "nbformat": 4,
 "nbformat_minor": 4
}
