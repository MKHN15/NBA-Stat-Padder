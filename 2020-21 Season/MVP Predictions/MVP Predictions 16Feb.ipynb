{
 "cells": [
  {
   "cell_type": "code",
   "execution_count": 174,
   "metadata": {},
   "outputs": [
    {
     "data": {
      "text/plain": [
       "'\\nCreated by MinhKhang Nguyen\\nJanuary 3 2021 11:54 AM\\n'"
      ]
     },
     "execution_count": 174,
     "metadata": {},
     "output_type": "execute_result"
    }
   ],
   "source": [
    "# -*- coding: utf-8 -*-\n",
    "\"\"\"\n",
    "Created by MinhKhang Nguyen\n",
    "January 3 2021 11:54 AM\n",
    "\"\"\""
   ]
  },
  {
   "cell_type": "code",
   "execution_count": 175,
   "metadata": {},
   "outputs": [],
   "source": [
    "import pandas as pd \n",
    "import random as rnd\n",
    "import numpy as np \n",
    "import matplotlib.pyplot as plt"
   ]
  },
  {
   "cell_type": "code",
   "execution_count": 176,
   "metadata": {},
   "outputs": [],
   "source": [
    "gdf = pd.read_csv('17feb.csv')"
   ]
  },
  {
   "cell_type": "code",
   "execution_count": 177,
   "metadata": {
    "scrolled": true
   },
   "outputs": [
    {
     "data": {
      "text/plain": [
       "Index(['Player', 'Pos', 'Age', 'Tm', 'WINP', 'G', 'GS', 'MP', 'FG', 'FGA',\n",
       "       'FGP', 'TP', 'TPA', 'TPP', '2P', '2PA', '2PP', 'eFGP', 'FT', 'FTA',\n",
       "       'FTP', 'ORB', 'DRB', 'TRB', 'AST', 'STL', 'BLK', 'TOV', 'PF', 'PTS'],\n",
       "      dtype='object')"
      ]
     },
     "execution_count": 177,
     "metadata": {},
     "output_type": "execute_result"
    }
   ],
   "source": [
    "gdf.columns"
   ]
  },
  {
   "cell_type": "code",
   "execution_count": 178,
   "metadata": {
    "scrolled": true
   },
   "outputs": [
    {
     "name": "stdout",
     "output_type": "stream",
     "text": [
      "giannis FG%  0.563\n",
      "giannis 3P%  0.282\n",
      "giannis eFG%  0.593\n",
      "giannis FT%  0.638\n",
      "giannis REB  11.5\n",
      "giannis AST  5.7\n",
      "giannis STL  1.1\n",
      "giannis BLK  1.3\n",
      "giannis TOV  3.6\n",
      "giannis PF  3.1\n",
      "giannis PTS  28.0\n",
      "------------------------------------------------------\n",
      "giannis score  15.22896580851919\n"
     ]
    }
   ],
   "source": [
    "giannis = gdf[gdf.Player == 'Giannis Antetokounmpo']\n",
    "\n",
    "giannis_winp = giannis.WINP.mean()\n",
    "giannis_fgp = giannis.FGP.mean()\n",
    "giannis_3pp = giannis.TPP.mean()\n",
    "giannis_efgp = giannis.eFGP.mean()\n",
    "giannis_ftp = giannis.FTP.mean()\n",
    "giannis_reb = giannis.TRB.mean()\n",
    "giannis_ast = giannis.AST.mean()\n",
    "giannis_stl = giannis.STL.mean()\n",
    "giannis_blk = giannis.BLK.mean()\n",
    "giannis_tov = giannis.TOV.mean()\n",
    "giannis_pf = giannis.PF.mean()\n",
    "giannis_pts = giannis.PTS.mean()\n",
    "\n",
    "print(\"giannis FG% \", giannis_fgp)\n",
    "print(\"giannis 3P% \", giannis_3pp)\n",
    "print(\"giannis eFG% \", giannis_efgp)\n",
    "print(\"giannis FT% \", giannis_ftp)\n",
    "print(\"giannis REB \", giannis_reb)\n",
    "print(\"giannis AST \", giannis_ast)\n",
    "print(\"giannis STL \", giannis_stl)\n",
    "print(\"giannis BLK \", giannis_blk)\n",
    "print(\"giannis TOV \", giannis_tov)\n",
    "print(\"giannis PF \", giannis_pf)\n",
    "print(\"giannis PTS \", giannis_pts)\n",
    "\n",
    "print(\"------------------------------------------------------\")\n",
    "\n",
    "giannis_scoring = (giannis_fgp/giannis_3pp/giannis_ftp)*(giannis_pts)/(1-giannis_efgp)\n",
    "giannis_key = giannis_scoring/(giannis_reb*giannis_ast*giannis_stl*giannis_blk)\n",
    "giannis_score = ((giannis_key*(giannis_tov/giannis_pf))*((giannis_winp)))*10\n",
    "giannis_score\n",
    "\n",
    "print(\"giannis score \", giannis_score)"
   ]
  },
  {
   "cell_type": "code",
   "execution_count": 72,
   "metadata": {},
   "outputs": [
    {
     "name": "stdout",
     "output_type": "stream",
     "text": [
      "steph FG%  0.499\n",
      "steph 3P%  0.436\n",
      "steph eFG%  0.623\n",
      "steph FT%  0.9329999999999999\n",
      "steph REB  5.3\n",
      "steph AST  5.9\n",
      "steph STL  1.2\n",
      "steph BLK  0.1\n",
      "steph TOV  3.2\n",
      "steph PF  1.9\n",
      "steph PTS  30.1\n",
      "------------------------------------------------------\n",
      "steph score  235.61861442996656\n",
      "steph score  2968.553120620002\n"
     ]
    }
   ],
   "source": [
    "steph = gdf[gdf.Player == 'Stephen Curry']\n",
    "\n",
    "steph_winp = steph.WINP.mean()\n",
    "steph_fgp = steph.FGP.mean()\n",
    "steph_3pp = steph.TPP.mean()\n",
    "steph_efgp = steph.eFGP.mean()\n",
    "steph_ftp = steph.FTP.mean()\n",
    "steph_reb = steph.TRB.mean()\n",
    "steph_ast = steph.AST.mean()\n",
    "steph_stl = steph.STL.mean()\n",
    "steph_blk = steph.BLK.mean()\n",
    "steph_tov = steph.TOV.mean()\n",
    "steph_pf = steph.PF.mean()\n",
    "steph_pts = steph.PTS.mean()\n",
    "\n",
    "print(\"steph FG% \", steph_fgp)\n",
    "print(\"steph 3P% \", steph_3pp)\n",
    "print(\"steph eFG% \", steph_efgp)\n",
    "print(\"steph FT% \", steph_ftp)\n",
    "print(\"steph REB \", steph_reb)\n",
    "print(\"steph AST \", steph_ast)\n",
    "print(\"steph STL \", steph_stl)\n",
    "print(\"steph BLK \", steph_blk)\n",
    "print(\"steph TOV \", steph_tov)\n",
    "print(\"steph PF \", steph_pf)\n",
    "print(\"steph PTS \", steph_pts)\n",
    "\n",
    "print(\"------------------------------------------------------\")\n",
    "\n",
    "steph_scoring = (steph_fgp/steph_3pp/steph_ftp)*(steph_pts)/(1-steph_efgp)\n",
    "steph_key = steph_scoring/(steph_reb*steph_ast*steph_stl*steph_blk)\n",
    "steph_score = ((steph_key*(steph_tov/steph_pf))*((steph_winp)))*10\n",
    "steph_score\n",
    "\n",
    "print(\"steph score \", steph_score)"
   ]
  },
  {
   "cell_type": "code",
   "execution_count": 180,
   "metadata": {},
   "outputs": [
    {
     "name": "stdout",
     "output_type": "stream",
     "text": [
      "ad FG%  0.5329999999999999\n",
      "ad 3P%  0.293\n",
      "ad eFG%  0.555\n",
      "ad FT%  0.715\n",
      "ad REB  8.4\n",
      "ad AST  3.0\n",
      "ad STL  1.3\n",
      "ad BLK  1.8\n",
      "ad TOV  2.0\n",
      "ad PF  1.8\n",
      "ad PTS  22.5\n",
      "------------------------------------------------------\n",
      "ad score  18.397504688105595\n"
     ]
    }
   ],
   "source": [
    "ad = gdf[gdf.Player == 'Anthony Davis']\n",
    "\n",
    "ad_winp = ad.WINP.mean()\n",
    "ad_fgp = ad.FGP.mean()\n",
    "ad_3pp = ad.TPP.mean()\n",
    "ad_efgp = ad.eFGP.mean()\n",
    "ad_ftp = ad.FTP.mean()\n",
    "ad_reb = ad.TRB.mean()\n",
    "ad_ast = ad.AST.mean()\n",
    "ad_stl = ad.STL.mean()\n",
    "ad_blk = ad.BLK.mean()\n",
    "ad_tov = ad.TOV.mean()\n",
    "ad_pf = ad.PF.mean()\n",
    "ad_pts = ad.PTS.mean()\n",
    "\n",
    "print(\"ad FG% \", ad_fgp)\n",
    "print(\"ad 3P% \", ad_3pp)\n",
    "print(\"ad eFG% \", ad_efgp)\n",
    "print(\"ad FT% \", ad_ftp)\n",
    "print(\"ad REB \", ad_reb)\n",
    "print(\"ad AST \", ad_ast)\n",
    "print(\"ad STL \", ad_stl)\n",
    "print(\"ad BLK \", ad_blk)\n",
    "print(\"ad TOV \", ad_tov)\n",
    "print(\"ad PF \", ad_pf)\n",
    "print(\"ad PTS \", ad_pts)\n",
    "\n",
    "print(\"------------------------------------------------------\")\n",
    "\n",
    "ad_scoring = (ad_fgp/ad_3pp/ad_ftp)*(ad_pts)/(1-ad_efgp)\n",
    "ad_key = ad_scoring/(ad_reb*ad_ast*ad_stl*ad_blk)\n",
    "ad_score = ((ad_key*(ad_tov/ad_pf))*((ad_winp)))*10\n",
    "ad_score\n",
    "\n",
    "print(\"ad score \", ad_score)"
   ]
  },
  {
   "cell_type": "code",
   "execution_count": 181,
   "metadata": {},
   "outputs": [
    {
     "name": "stdout",
     "output_type": "stream",
     "text": [
      "luka FG%  0.475\n",
      "luka 3P%  0.335\n",
      "luka eFG%  0.532\n",
      "luka FT%  0.795\n",
      "luka REB  8.6\n",
      "luka AST  9.4\n",
      "luka STL  1.0\n",
      "luka BLK  0.7\n",
      "luka TOV  4.2\n",
      "luka PF  2.2\n",
      "luka PTS  29.1\n",
      "------------------------------------------------------\n",
      "luka score  17.359973389113208\n"
     ]
    }
   ],
   "source": [
    "luka = gdf[gdf.Player == 'Luka Doncic']\n",
    "\n",
    "luka_winp = luka.WINP.mean()\n",
    "luka_fgp = luka.FGP.mean()\n",
    "luka_3pp = luka.TPP.mean()\n",
    "luka_efgp = luka.eFGP.mean()\n",
    "luka_ftp = luka.FTP.mean()\n",
    "luka_reb = luka.TRB.mean()\n",
    "luka_ast = luka.AST.mean()\n",
    "luka_stl = luka.STL.mean()\n",
    "luka_blk = luka.BLK.mean()\n",
    "luka_tov = luka.TOV.mean()\n",
    "luka_pf = luka.PF.mean()\n",
    "luka_pts = luka.PTS.mean()\n",
    "\n",
    "print(\"luka FG% \", luka_fgp)\n",
    "print(\"luka 3P% \", luka_3pp)\n",
    "print(\"luka eFG% \", luka_efgp)\n",
    "print(\"luka FT% \", luka_ftp)\n",
    "print(\"luka REB \", luka_reb)\n",
    "print(\"luka AST \", luka_ast)\n",
    "print(\"luka STL \", luka_stl)\n",
    "print(\"luka BLK \", luka_blk)\n",
    "print(\"luka TOV \", luka_tov)\n",
    "print(\"luka PF \", luka_pf)\n",
    "print(\"luka PTS \", luka_pts)\n",
    "\n",
    "print(\"------------------------------------------------------\")\n",
    "\n",
    "luka_scoring = (luka_fgp/luka_3pp/luka_ftp)*(luka_pts)/(1-luka_efgp)\n",
    "luka_key = luka_scoring/(luka_reb*luka_ast*luka_stl*luka_blk)\n",
    "luka_score = ((luka_key*(luka_tov/luka_pf))*((luka_winp)))*10\n",
    "luka_score\n",
    "\n",
    "print(\"luka score \", luka_score)"
   ]
  },
  {
   "cell_type": "code",
   "execution_count": 182,
   "metadata": {},
   "outputs": [
    {
     "name": "stdout",
     "output_type": "stream",
     "text": [
      "kd FG%  0.524\n",
      "kd 3P%  0.434\n",
      "kd eFG%  0.5920000000000001\n",
      "kd FT%  0.8690000000000001\n",
      "kd REB  7.3\n",
      "kd AST  5.3\n",
      "kd STL  0.7\n",
      "kd BLK  1.4\n",
      "kd TOV  3.5\n",
      "kd PF  2.3\n",
      "kd PTS  29.0\n",
      "------------------------------------------------------\n",
      "kd score  23.780789524149817\n"
     ]
    }
   ],
   "source": [
    "kd = gdf[gdf.Player == 'Kevin Durant']\n",
    "\n",
    "kd_winp = kd.WINP.mean()\n",
    "kd_fgp = kd.FGP.mean()\n",
    "kd_3pp = kd.TPP.mean()\n",
    "kd_efgp = kd.eFGP.mean()\n",
    "kd_ftp = kd.FTP.mean()\n",
    "kd_reb = kd.TRB.mean()\n",
    "kd_ast = kd.AST.mean()\n",
    "kd_stl = kd.STL.mean()\n",
    "kd_blk = kd.BLK.mean()\n",
    "kd_tov = kd.TOV.mean()\n",
    "kd_pf = kd.PF.mean()\n",
    "kd_pts = kd.PTS.mean()\n",
    "\n",
    "print(\"kd FG% \", kd_fgp)\n",
    "print(\"kd 3P% \", kd_3pp)\n",
    "print(\"kd eFG% \", kd_efgp)\n",
    "print(\"kd FT% \", kd_ftp)\n",
    "print(\"kd REB \", kd_reb)\n",
    "print(\"kd AST \", kd_ast)\n",
    "print(\"kd STL \", kd_stl)\n",
    "print(\"kd BLK \", kd_blk)\n",
    "print(\"kd TOV \", kd_tov)\n",
    "print(\"kd PF \", kd_pf)\n",
    "print(\"kd PTS \", kd_pts)\n",
    "\n",
    "print(\"------------------------------------------------------\")\n",
    "\n",
    "kd_scoring = (kd_fgp/kd_3pp/kd_ftp)*(kd_pts)/(1-kd_efgp)\n",
    "kd_key = kd_scoring/(kd_reb*kd_ast*kd_stl*kd_blk)\n",
    "kd_score = ((kd_key*(kd_tov/kd_pf))*((kd_winp)))*10\n",
    "kd_score\n",
    "\n",
    "print(\"kd score \", kd_score)"
   ]
  },
  {
   "cell_type": "code",
   "execution_count": 73,
   "metadata": {},
   "outputs": [
    {
     "name": "stdout",
     "output_type": "stream",
     "text": [
      "embiid FG%  0.5429999999999999\n",
      "embiid 3P%  0.4\n",
      "embiid eFG%  0.5770000000000001\n",
      "embiid FT%  0.851\n",
      "embiid REB  10.8\n",
      "embiid AST  2.8\n",
      "embiid STL  1.3\n",
      "embiid BLK  1.2\n",
      "embiid TOV  3.3\n",
      "embiid PF  2.5\n",
      "embiid PTS  29.6\n",
      "------------------------------------------------------\n",
      "embiid score  20.083534229386835\n",
      "embiid score  1643.4665739130432\n"
     ]
    }
   ],
   "source": [
    "embiid = gdf[gdf.Player == 'Joel Embiid']\n",
    "\n",
    "embiid_winp = embiid.WINP.mean()\n",
    "embiid_fgp = embiid.FGP.mean()\n",
    "embiid_3pp = embiid.TPP.mean()\n",
    "embiid_efgp = embiid.eFGP.mean()\n",
    "embiid_ftp = embiid.FTP.mean()\n",
    "embiid_reb = embiid.TRB.mean()\n",
    "embiid_ast = embiid.AST.mean()\n",
    "embiid_stl = embiid.STL.mean()\n",
    "embiid_blk = embiid.BLK.mean()\n",
    "embiid_tov = embiid.TOV.mean()\n",
    "embiid_pf = embiid.PF.mean()\n",
    "embiid_pts = embiid.PTS.mean()\n",
    "\n",
    "print(\"embiid FG% \", embiid_fgp)\n",
    "print(\"embiid 3P% \", embiid_3pp)\n",
    "print(\"embiid eFG% \", embiid_efgp)\n",
    "print(\"embiid FT% \", embiid_ftp)\n",
    "print(\"embiid REB \", embiid_reb)\n",
    "print(\"embiid AST \", embiid_ast)\n",
    "print(\"embiid STL \", embiid_stl)\n",
    "print(\"embiid BLK \", embiid_blk)\n",
    "print(\"embiid TOV \", embiid_tov)\n",
    "print(\"embiid PF \", embiid_pf)\n",
    "print(\"embiid PTS \", embiid_pts)\n",
    "\n",
    "print(\"------------------------------------------------------\")\n",
    "\n",
    "embiid_scoring = (embiid_fgp/embiid_3pp/embiid_ftp)*(embiid_pts)/(1-embiid_efgp)\n",
    "embiid_key = embiid_scoring/(embiid_reb*embiid_ast*embiid_stl*embiid_blk)\n",
    "embiid_score = ((embiid_key*(embiid_tov/embiid_pf))*((embiid_winp)))*10\n",
    "embiid_score\n",
    "\n",
    "print(\"embiid score \", embiid_score)"
   ]
  },
  {
   "cell_type": "code",
   "execution_count": 184,
   "metadata": {},
   "outputs": [
    {
     "name": "stdout",
     "output_type": "stream",
     "text": [
      "gobert FG%  nan\n",
      "gobert 3P%  nan\n",
      "gobert eFG%  nan\n",
      "gobert FT%  nan\n",
      "gobert REB  nan\n",
      "gobert AST  nan\n",
      "gobert STL  nan\n",
      "gobert BLK  nan\n",
      "gobert TOV  nan\n",
      "gobert PF  nan\n",
      "gobert PTS  nan\n",
      "------------------------------------------------------\n",
      "gobert score  nan\n"
     ]
    }
   ],
   "source": [
    "gobert = gdf[gdf.Player == 'Joel gobert']\n",
    "\n",
    "gobert_winp = gobert.WINP.mean()\n",
    "gobert_fgp = gobert.FGP.mean()\n",
    "gobert_3pp = gobert.TPP.mean()\n",
    "gobert_efgp = gobert.eFGP.mean()\n",
    "gobert_ftp = gobert.FTP.mean()\n",
    "gobert_reb = gobert.TRB.mean()\n",
    "gobert_ast = gobert.AST.mean()\n",
    "gobert_stl = gobert.STL.mean()\n",
    "gobert_blk = gobert.BLK.mean()\n",
    "gobert_tov = gobert.TOV.mean()\n",
    "gobert_pf = gobert.PF.mean()\n",
    "gobert_pts = gobert.PTS.mean()\n",
    "\n",
    "print(\"gobert FG% \", gobert_fgp)\n",
    "print(\"gobert 3P% \", gobert_3pp)\n",
    "print(\"gobert eFG% \", gobert_efgp)\n",
    "print(\"gobert FT% \", gobert_ftp)\n",
    "print(\"gobert REB \", gobert_reb)\n",
    "print(\"gobert AST \", gobert_ast)\n",
    "print(\"gobert STL \", gobert_stl)\n",
    "print(\"gobert BLK \", gobert_blk)\n",
    "print(\"gobert TOV \", gobert_tov)\n",
    "print(\"gobert PF \", gobert_pf)\n",
    "print(\"gobert PTS \", gobert_pts)\n",
    "\n",
    "print(\"------------------------------------------------------\")\n",
    "\n",
    "gobert_scoring = (gobert_fgp/gobert_3pp/gobert_ftp)*(gobert_pts)/(1-gobert_efgp)\n",
    "gobert_key = gobert_scoring/(gobert_reb*gobert_ast*gobert_stl*gobert_blk)\n",
    "gobert_score = ((gobert_key*(gobert_tov/gobert_pf))*((gobert_winp)))*10\n",
    "gobert_score\n",
    "\n",
    "print(\"gobert score \", gobert_score)"
   ]
  },
  {
   "cell_type": "code",
   "execution_count": 185,
   "metadata": {},
   "outputs": [
    {
     "name": "stdout",
     "output_type": "stream",
     "text": [
      "harden FG%  0.47200000000000003\n",
      "harden 3P%  0.38\n",
      "harden eFG%  0.5670000000000001\n",
      "harden FT%  0.894\n",
      "harden REB  7.3\n",
      "harden AST  11.3\n",
      "harden STL  1.0\n",
      "harden BLK  0.8\n",
      "harden TOV  4.4\n",
      "harden PF  2.3\n",
      "harden PTS  23.9\n",
      "------------------------------------------------------\n",
      "harden score  13.338767050947794\n"
     ]
    }
   ],
   "source": [
    "harden = gdf[gdf.Player == 'James Harden']\n",
    "\n",
    "harden_winp = harden.WINP.mean()\n",
    "harden_fgp = harden.FGP.mean()\n",
    "harden_3pp = harden.TPP.mean()\n",
    "harden_efgp = harden.eFGP.mean()\n",
    "harden_ftp = harden.FTP.mean()\n",
    "harden_reb = harden.TRB.mean()\n",
    "harden_ast = harden.AST.mean()\n",
    "harden_stl = harden.STL.mean()\n",
    "harden_blk = harden.BLK.mean()\n",
    "harden_tov = harden.TOV.mean()\n",
    "harden_pf = harden.PF.mean()\n",
    "harden_pts = harden.PTS.mean()\n",
    "\n",
    "print(\"harden FG% \", harden_fgp)\n",
    "print(\"harden 3P% \", harden_3pp)\n",
    "print(\"harden eFG% \", harden_efgp)\n",
    "print(\"harden FT% \", harden_ftp)\n",
    "print(\"harden REB \", harden_reb)\n",
    "print(\"harden AST \", harden_ast)\n",
    "print(\"harden STL \", harden_stl)\n",
    "print(\"harden BLK \", harden_blk)\n",
    "print(\"harden TOV \", harden_tov)\n",
    "print(\"harden PF \", harden_pf)\n",
    "print(\"harden PTS \", harden_pts)\n",
    "\n",
    "print(\"------------------------------------------------------\")\n",
    "\n",
    "harden_scoring = (harden_fgp/harden_3pp/harden_ftp)*(harden_pts)/(1-harden_efgp)\n",
    "harden_key = harden_scoring/(harden_reb*harden_ast*harden_stl*harden_blk)\n",
    "harden_score = ((harden_key*(harden_tov/harden_pf))*((harden_winp)))*10\n",
    "harden_score\n",
    "\n",
    "print(\"harden score \", harden_score)"
   ]
  },
  {
   "cell_type": "code",
   "execution_count": 186,
   "metadata": {},
   "outputs": [
    {
     "name": "stdout",
     "output_type": "stream",
     "text": [
      "bron FG%  0.498\n",
      "bron 3P%  0.381\n",
      "bron eFG%  0.5670000000000001\n",
      "bron FT%  0.71\n",
      "bron REB  8.0\n",
      "bron AST  8.0\n",
      "bron STL  1.1\n",
      "bron BLK  0.5\n",
      "bron TOV  3.7\n",
      "bron PF  1.6\n",
      "bron PTS  25.5\n",
      "------------------------------------------------------\n",
      "bron score  54.06038773854416\n"
     ]
    }
   ],
   "source": [
    "bron = gdf[gdf.Player == 'LeBron James']\n",
    "\n",
    "bron_winp = bron.WINP.mean()\n",
    "bron_fgp = bron.FGP.mean()\n",
    "bron_3pp = bron.TPP.mean()\n",
    "bron_efgp = bron.eFGP.mean()\n",
    "bron_ftp = bron.FTP.mean()\n",
    "bron_reb = bron.TRB.mean()\n",
    "bron_ast = bron.AST.mean()\n",
    "bron_stl = bron.STL.mean()\n",
    "bron_blk = bron.BLK.mean()\n",
    "bron_tov = bron.TOV.mean()\n",
    "bron_pf = bron.PF.mean()\n",
    "bron_pts = bron.PTS.mean()\n",
    "\n",
    "print(\"bron FG% \", bron_fgp)\n",
    "print(\"bron 3P% \", bron_3pp)\n",
    "print(\"bron eFG% \", bron_efgp)\n",
    "print(\"bron FT% \", bron_ftp)\n",
    "print(\"bron REB \", bron_reb)\n",
    "print(\"bron AST \", bron_ast)\n",
    "print(\"bron STL \", bron_stl)\n",
    "print(\"bron BLK \", bron_blk)\n",
    "print(\"bron TOV \", bron_tov)\n",
    "print(\"bron PF \", bron_pf)\n",
    "print(\"bron PTS \", bron_pts)\n",
    "\n",
    "print(\"------------------------------------------------------\")\n",
    "\n",
    "bron_scoring = (bron_fgp/bron_3pp/bron_ftp)*(bron_pts)/(1-bron_efgp)\n",
    "bron_key = bron_scoring/(bron_reb*bron_ast*bron_stl*bron_blk)\n",
    "bron_score = ((bron_key*(bron_tov/bron_pf))*((bron_winp)))*10\n",
    "bron_score\n",
    "\n",
    "print(\"bron score \", bron_score)"
   ]
  },
  {
   "cell_type": "code",
   "execution_count": 70,
   "metadata": {},
   "outputs": [
    {
     "name": "stdout",
     "output_type": "stream",
     "text": [
      "jokic FG%  0.564\n",
      "jokic 3P%  0.381\n",
      "jokic eFG%  0.603\n",
      "jokic FT%  0.858\n",
      "jokic REB  11.5\n",
      "jokic AST  8.7\n",
      "jokic STL  1.5\n",
      "jokic BLK  0.7\n",
      "jokic TOV  3.5\n",
      "jokic PF  3.0\n",
      "jokic PTS  26.5\n",
      "------------------------------------------------------\n",
      "jokic score  7.1111100019185125\n",
      "jokic score  2274.138387370205\n"
     ]
    }
   ],
   "source": [
    "jokic = gdf[gdf.Player == 'Nikola Jokic']\n",
    "\n",
    "jokic_winp = jokic.WINP.mean()\n",
    "jokic_fgp = jokic.FGP.mean()\n",
    "jokic_3pp = jokic.TPP.mean()\n",
    "jokic_efgp = jokic.eFGP.mean()\n",
    "jokic_ftp = jokic.FTP.mean()\n",
    "jokic_reb = jokic.TRB.mean()\n",
    "jokic_ast = jokic.AST.mean()\n",
    "jokic_stl = jokic.STL.mean()\n",
    "jokic_blk = jokic.BLK.mean()\n",
    "jokic_tov = jokic.TOV.mean()\n",
    "jokic_pf = jokic.PF.mean()\n",
    "jokic_pts = jokic.PTS.mean()\n",
    "\n",
    "print(\"jokic FG% \", jokic_fgp)\n",
    "print(\"jokic 3P% \", jokic_3pp)\n",
    "print(\"jokic eFG% \", jokic_efgp)\n",
    "print(\"jokic FT% \", jokic_ftp)\n",
    "print(\"jokic REB \", jokic_reb)\n",
    "print(\"jokic AST \", jokic_ast)\n",
    "print(\"jokic STL \", jokic_stl)\n",
    "print(\"jokic BLK \", jokic_blk)\n",
    "print(\"jokic TOV \", jokic_tov)\n",
    "print(\"jokic PF \", jokic_pf)\n",
    "print(\"jokic PTS \", jokic_pts)\n",
    "\n",
    "print(\"------------------------------------------------------\")\n",
    "\n",
    "jokic_scoring = (jokic_fgp/jokic_3pp/jokic_ftp)*(jokic_pts)/(1-jokic_efgp)\n",
    "jokic_key = jokic_scoring/(jokic_reb*jokic_ast*jokic_stl*jokic_blk)\n",
    "jokic_score = ((jokic_key*(jokic_tov/jokic_pf))*((jokic_winp)))*10\n",
    "jokic_score\n",
    "\n",
    "print(\"jokic score \", jokic_score)"
   ]
  },
  {
   "cell_type": "code",
   "execution_count": 188,
   "metadata": {},
   "outputs": [
    {
     "name": "stdout",
     "output_type": "stream",
     "text": [
      "klaw FG%  0.513\n",
      "klaw 3P%  0.389\n",
      "klaw eFG%  0.563\n",
      "klaw FT%  0.879\n",
      "klaw REB  5.9\n",
      "klaw AST  5.0\n",
      "klaw STL  1.8\n",
      "klaw BLK  0.6\n",
      "klaw TOV  1.8\n",
      "klaw PF  1.5\n",
      "klaw PTS  26.7\n",
      "------------------------------------------------------\n",
      "klaw score  24.996704366830812\n"
     ]
    }
   ],
   "source": [
    "klaw = gdf[gdf.Player == 'Kawhi Leonard']\n",
    "\n",
    "klaw_winp = klaw.WINP.mean()\n",
    "klaw_fgp = klaw.FGP.mean()\n",
    "klaw_3pp = klaw.TPP.mean()\n",
    "klaw_efgp = klaw.eFGP.mean()\n",
    "klaw_ftp = klaw.FTP.mean()\n",
    "klaw_reb = klaw.TRB.mean()\n",
    "klaw_ast = klaw.AST.mean()\n",
    "klaw_stl = klaw.STL.mean()\n",
    "klaw_blk = klaw.BLK.mean()\n",
    "klaw_tov = klaw.TOV.mean()\n",
    "klaw_pf = klaw.PF.mean()\n",
    "klaw_pts = klaw.PTS.mean()\n",
    "\n",
    "print(\"klaw FG% \", klaw_fgp)\n",
    "print(\"klaw 3P% \", klaw_3pp)\n",
    "print(\"klaw eFG% \", klaw_efgp)\n",
    "print(\"klaw FT% \", klaw_ftp)\n",
    "print(\"klaw REB \", klaw_reb)\n",
    "print(\"klaw AST \", klaw_ast)\n",
    "print(\"klaw STL \", klaw_stl)\n",
    "print(\"klaw BLK \", klaw_blk)\n",
    "print(\"klaw TOV \", klaw_tov)\n",
    "print(\"klaw PF \", klaw_pf)\n",
    "print(\"klaw PTS \", klaw_pts)\n",
    "\n",
    "print(\"------------------------------------------------------\")\n",
    "\n",
    "klaw_scoring = (klaw_fgp/klaw_3pp/klaw_ftp)*(klaw_pts)/(1-klaw_efgp)\n",
    "klaw_key = klaw_scoring/(klaw_reb*klaw_ast*klaw_stl*klaw_blk)\n",
    "klaw_score = ((klaw_key*(klaw_tov/klaw_pf))*((klaw_winp)))*10\n",
    "klaw_score\n",
    "\n",
    "print(\"klaw score \", klaw_score)"
   ]
  },
  {
   "cell_type": "code",
   "execution_count": 189,
   "metadata": {
    "scrolled": true
   },
   "outputs": [
    {
     "name": "stdout",
     "output_type": "stream",
     "text": [
      "dame FG%  0.447\n",
      "dame 3P%  0.382\n",
      "dame eFG%  0.547\n",
      "dame FT%  0.934\n",
      "dame REB  4.3\n",
      "dame AST  7.3\n",
      "dame STL  1.0\n",
      "dame BLK  0.2\n",
      "dame TOV  3.1\n",
      "dame PF  1.5\n",
      "dame PTS  29.2\n",
      "------------------------------------------------------\n",
      "dame score  167.48333736422694\n"
     ]
    }
   ],
   "source": [
    "dame = gdf[gdf.Player == 'Damian Lillard']\n",
    "\n",
    "dame_winp = dame.WINP.mean()\n",
    "dame_fgp = dame.FGP.mean()\n",
    "dame_3pp = dame.TPP.mean()\n",
    "dame_efgp = dame.eFGP.mean()\n",
    "dame_ftp = dame.FTP.mean()\n",
    "dame_reb = dame.TRB.mean()\n",
    "dame_ast = dame.AST.mean()\n",
    "dame_stl = dame.STL.mean()\n",
    "dame_blk = dame.BLK.mean()\n",
    "dame_tov = dame.TOV.mean()\n",
    "dame_pf = dame.PF.mean()\n",
    "dame_pts = dame.PTS.mean()\n",
    "\n",
    "print(\"dame FG% \", dame_fgp)\n",
    "print(\"dame 3P% \", dame_3pp)\n",
    "print(\"dame eFG% \", dame_efgp)\n",
    "print(\"dame FT% \", dame_ftp)\n",
    "print(\"dame REB \", dame_reb)\n",
    "print(\"dame AST \", dame_ast)\n",
    "print(\"dame STL \", dame_stl)\n",
    "print(\"dame BLK \", dame_blk)\n",
    "print(\"dame TOV \", dame_tov)\n",
    "print(\"dame PF \", dame_pf)\n",
    "print(\"dame PTS \", dame_pts)\n",
    "\n",
    "print(\"------------------------------------------------------\")\n",
    "\n",
    "dame_scoring = (dame_fgp/dame_3pp/dame_ftp)*(dame_pts)/(1-dame_efgp)\n",
    "dame_key = dame_scoring/(dame_reb*dame_ast*dame_stl*dame_blk)\n",
    "dame_score = ((dame_key*(dame_tov/dame_pf))*((dame_winp)))*10\n",
    "dame_score\n",
    "\n",
    "print(\"dame score \", dame_score)"
   ]
  },
  {
   "cell_type": "code",
   "execution_count": 190,
   "metadata": {},
   "outputs": [
    {
     "name": "stdout",
     "output_type": "stream",
     "text": [
      "spida FG%  0.428\n",
      "spida 3P%  0.392\n",
      "spida eFG%  0.517\n",
      "spida FT%  0.84\n",
      "spida REB  4.3\n",
      "spida AST  5.1\n",
      "spida STL  0.8\n",
      "spida BLK  0.3\n",
      "spida TOV  3.0\n",
      "spida PF  2.2\n",
      "spida PTS  24.2\n",
      "------------------------------------------------------\n",
      "spida score  138.52830131912907\n"
     ]
    }
   ],
   "source": [
    "spida = gdf[gdf.Player == 'Donovan Mitchell']\n",
    "\n",
    "spida_winp = spida.WINP.mean()\n",
    "spida_fgp = spida.FGP.mean()\n",
    "spida_3pp = spida.TPP.mean()\n",
    "spida_efgp = spida.eFGP.mean()\n",
    "spida_ftp = spida.FTP.mean()\n",
    "spida_reb = spida.TRB.mean()\n",
    "spida_ast = spida.AST.mean()\n",
    "spida_stl = spida.STL.mean()\n",
    "spida_blk = spida.BLK.mean()\n",
    "spida_tov = spida.TOV.mean()\n",
    "spida_pf = spida.PF.mean()\n",
    "spida_pts = spida.PTS.mean()\n",
    "\n",
    "print(\"spida FG% \", spida_fgp)\n",
    "print(\"spida 3P% \", spida_3pp)\n",
    "print(\"spida eFG% \", spida_efgp)\n",
    "print(\"spida FT% \", spida_ftp)\n",
    "print(\"spida REB \", spida_reb)\n",
    "print(\"spida AST \", spida_ast)\n",
    "print(\"spida STL \", spida_stl)\n",
    "print(\"spida BLK \", spida_blk)\n",
    "print(\"spida TOV \", spida_tov)\n",
    "print(\"spida PF \", spida_pf)\n",
    "print(\"spida PTS \", spida_pts)\n",
    "\n",
    "print(\"------------------------------------------------------\")\n",
    "\n",
    "spida_scoring = (spida_fgp/spida_3pp/spida_ftp)*(spida_pts)/(1-spida_efgp)\n",
    "spida_key = spida_scoring/(spida_reb*spida_ast*spida_stl*spida_blk)\n",
    "spida_score = ((spida_key*(spida_tov/spida_pf))*((spida_winp)))*10\n",
    "spida_score\n",
    "\n",
    "print(\"spida score \", spida_score)"
   ]
  },
  {
   "cell_type": "code",
   "execution_count": 191,
   "metadata": {
    "scrolled": false
   },
   "outputs": [
    {
     "name": "stdout",
     "output_type": "stream",
     "text": [
      "giannis score               15.22896580851919\n",
      "steph score               235.61861442996656\n",
      "ad score               18.397504688105595\n",
      "luka score               17.359973389113208\n",
      "kd score               23.780789524149817\n",
      "embiid score               20.083534229386835\n",
      "gobert score               nan\n",
      "harden score               13.338767050947794\n",
      "bron score               54.06038773854416\n",
      "jokic score               7.1111100019185125\n",
      "klaw score               24.996704366830812\n",
      "dame              167.48333736422694\n",
      "spida score               138.52830131912907\n"
     ]
    }
   ],
   "source": [
    "Giannis = print(\"giannis score              \", giannis_score)\n",
    "Steph = print(\"steph score              \", steph_score)\n",
    "AD = print(\"ad score              \", ad_score)\n",
    "Luka = print(\"luka score              \", luka_score)\n",
    "KD = print(\"kd score              \", kd_score)\n",
    "Embiid = print(\"embiid score              \", embiid_score)\n",
    "Gobert = print(\"gobert score              \", gobert_score)\n",
    "Harden = print(\"harden score              \", harden_score)\n",
    "Bron = print(\"bron score              \", bron_score)\n",
    "Jokic = print(\"jokic score              \", jokic_score)\n",
    "Klaw = print(\"klaw score              \", klaw_score)\n",
    "Dame = print(\"dame             \", dame_score)\n",
    "Spida = print(\"spida score              \", spida_score)"
   ]
  },
  {
   "cell_type": "code",
   "execution_count": 193,
   "metadata": {},
   "outputs": [
    {
     "name": "stdout",
     "output_type": "stream",
     "text": [
      "[235.61861442996656, nan, 167.48333736422694, 138.52830131912907, 54.06038773854416, 24.996704366830812, 23.780789524149817, 20.083534229386835, 18.397504688105595, 17.359973389113208, 15.22896580851919, 13.338767050947794, 7.1111100019185125]\n"
     ]
    }
   ],
   "source": [
    "mvp = [giannis_score, steph_score, ad_score, luka_score, kd_score, embiid_score, gobert_score, harden_score, bron_score, jokic_score, klaw_score, dame_score, spida_score]\n",
    "mvp.sort(reverse = True)\n",
    "print(mvp)"
   ]
  }
 ],
 "metadata": {
  "kernelspec": {
   "display_name": "Python 3",
   "language": "python",
   "name": "python3"
  },
  "language_info": {
   "codemirror_mode": {
    "name": "ipython",
    "version": 3
   },
   "file_extension": ".py",
   "mimetype": "text/x-python",
   "name": "python",
   "nbconvert_exporter": "python",
   "pygments_lexer": "ipython3",
   "version": "3.7.6"
  }
 },
 "nbformat": 4,
 "nbformat_minor": 4
}
