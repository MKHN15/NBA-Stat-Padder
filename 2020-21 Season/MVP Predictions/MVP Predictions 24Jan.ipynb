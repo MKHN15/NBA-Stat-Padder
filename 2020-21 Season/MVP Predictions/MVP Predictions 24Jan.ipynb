{
 "cells": [
  {
   "cell_type": "code",
   "execution_count": 115,
   "metadata": {},
   "outputs": [
    {
     "data": {
      "text/plain": [
       "'\\nCreated by MinhKhang Nguyen\\nJanuary 3 2021 11:54 AM\\n'"
      ]
     },
     "execution_count": 115,
     "metadata": {},
     "output_type": "execute_result"
    }
   ],
   "source": [
    "# -*- coding: utf-8 -*-\n",
    "\"\"\"\n",
    "Created by MinhKhang Nguyen\n",
    "January 3 2021 11:54 AM\n",
    "\"\"\""
   ]
  },
  {
   "cell_type": "code",
   "execution_count": 116,
   "metadata": {},
   "outputs": [],
   "source": [
    "import pandas as pd \n",
    "import random as rnd\n",
    "import numpy as np \n",
    "import matplotlib.pyplot as plt"
   ]
  },
  {
   "cell_type": "code",
   "execution_count": 117,
   "metadata": {},
   "outputs": [],
   "source": [
    "gdf = pd.read_csv('24jan.csv')"
   ]
  },
  {
   "cell_type": "code",
   "execution_count": 118,
   "metadata": {
    "scrolled": true
   },
   "outputs": [
    {
     "data": {
      "text/plain": [
       "Index(['Player', 'Pos', 'Age', 'Tm', 'WINP', 'G', 'GS', 'MP', 'FG', 'FGA',\n",
       "       'FGP', 'TP', 'TPA', 'TPP', '2P', '2PA', '2PP', 'eFGP', 'FT', 'FTA',\n",
       "       'FTP', 'ORB', 'DRB', 'TRB', 'AST', 'STL', 'BLK', 'TOV', 'PF', 'PTS'],\n",
       "      dtype='object')"
      ]
     },
     "execution_count": 118,
     "metadata": {},
     "output_type": "execute_result"
    }
   ],
   "source": [
    "gdf.columns"
   ]
  },
  {
   "cell_type": "code",
   "execution_count": 119,
   "metadata": {},
   "outputs": [
    {
     "name": "stdout",
     "output_type": "stream",
     "text": [
      "giannis FG%  0.5379999999999999\n",
      "giannis 3P%  0.309\n",
      "giannis eFG%  0.579\n",
      "giannis FT%  0.583\n",
      "giannis REB  10.3\n",
      "giannis AST  5.1\n",
      "giannis STL  1.1\n",
      "giannis BLK  1.1\n",
      "giannis TOV  3.9\n",
      "giannis PF  3.4\n",
      "giannis PTS  27.0\n",
      "------------------------------------------------------\n",
      "giannis score  20.738678501029565\n"
     ]
    }
   ],
   "source": [
    "giannis = gdf[gdf.Player == 'Giannis Antetokounmpo']\n",
    "\n",
    "giannis_winp = giannis.WINP.mean()\n",
    "giannis_fgp = giannis.FGP.mean()\n",
    "giannis_3pp = giannis.TPP.mean()\n",
    "giannis_efgp = giannis.eFGP.mean()\n",
    "giannis_ftp = giannis.FTP.mean()\n",
    "giannis_reb = giannis.TRB.mean()\n",
    "giannis_ast = giannis.AST.mean()\n",
    "giannis_stl = giannis.STL.mean()\n",
    "giannis_blk = giannis.BLK.mean()\n",
    "giannis_tov = giannis.TOV.mean()\n",
    "giannis_pf = giannis.PF.mean()\n",
    "giannis_pts = giannis.PTS.mean()\n",
    "\n",
    "print(\"giannis FG% \", giannis_fgp)\n",
    "print(\"giannis 3P% \", giannis_3pp)\n",
    "print(\"giannis eFG% \", giannis_efgp)\n",
    "print(\"giannis FT% \", giannis_ftp)\n",
    "print(\"giannis REB \", giannis_reb)\n",
    "print(\"giannis AST \", giannis_ast)\n",
    "print(\"giannis STL \", giannis_stl)\n",
    "print(\"giannis BLK \", giannis_blk)\n",
    "print(\"giannis TOV \", giannis_tov)\n",
    "print(\"giannis PF \", giannis_pf)\n",
    "print(\"giannis PTS \", giannis_pts)\n",
    "\n",
    "print(\"------------------------------------------------------\")\n",
    "\n",
    "giannis_scoring = (giannis_fgp/giannis_3pp/giannis_ftp)*(giannis_pts)/(1-giannis_efgp)\n",
    "giannis_key = giannis_scoring/(giannis_reb*giannis_ast*giannis_stl*giannis_blk)\n",
    "giannis_score = ((giannis_key*(giannis_tov/giannis_pf))*((giannis_winp)))*10\n",
    "giannis_score\n",
    "\n",
    "print(\"giannis score \", giannis_score)"
   ]
  },
  {
   "cell_type": "code",
   "execution_count": 120,
   "metadata": {},
   "outputs": [
    {
     "name": "stdout",
     "output_type": "stream",
     "text": [
      "beal FG%  0.494\n",
      "beal 3P%  0.375\n",
      "beal eFG%  0.5429999999999999\n",
      "beal FT%  0.8740000000000001\n",
      "beal REB  5.3\n",
      "beal AST  5.0\n",
      "beal STL  1.4\n",
      "beal BLK  0.7\n",
      "beal TOV  3.3\n",
      "beal PF  2.5\n",
      "beal PTS  34.9\n",
      "------------------------------------------------------\n",
      "beal score  15.97195596142252\n"
     ]
    }
   ],
   "source": [
    "beal = gdf[gdf.Player == 'Bradley Beal']\n",
    "\n",
    "beal_winp = beal.WINP.mean()\n",
    "beal_fgp = beal.FGP.mean()\n",
    "beal_3pp = beal.TPP.mean()\n",
    "beal_efgp = beal.eFGP.mean()\n",
    "beal_ftp = beal.FTP.mean()\n",
    "beal_reb = beal.TRB.mean()\n",
    "beal_ast = beal.AST.mean()\n",
    "beal_stl = beal.STL.mean()\n",
    "beal_blk = beal.BLK.mean()\n",
    "beal_tov = beal.TOV.mean()\n",
    "beal_pf = beal.PF.mean()\n",
    "beal_pts = beal.PTS.mean()\n",
    "\n",
    "print(\"beal FG% \", beal_fgp)\n",
    "print(\"beal 3P% \", beal_3pp)\n",
    "print(\"beal eFG% \", beal_efgp)\n",
    "print(\"beal FT% \", beal_ftp)\n",
    "print(\"beal REB \", beal_reb)\n",
    "print(\"beal AST \", beal_ast)\n",
    "print(\"beal STL \", beal_stl)\n",
    "print(\"beal BLK \", beal_blk)\n",
    "print(\"beal TOV \", beal_tov)\n",
    "print(\"beal PF \", beal_pf)\n",
    "print(\"beal PTS \", beal_pts)\n",
    "\n",
    "print(\"------------------------------------------------------\")\n",
    "\n",
    "beal_scoring = (beal_fgp/beal_3pp/beal_ftp)*(beal_pts)/(1-beal_efgp)\n",
    "beal_key = beal_scoring/(beal_reb*beal_ast*beal_stl*beal_blk)\n",
    "beal_score = ((beal_key*(beal_tov/beal_pf))*((beal_winp)))*10\n",
    "beal_score\n",
    "\n",
    "print(\"beal score \", beal_score)"
   ]
  },
  {
   "cell_type": "code",
   "execution_count": 121,
   "metadata": {},
   "outputs": [
    {
     "name": "stdout",
     "output_type": "stream",
     "text": [
      "steph FG%  0.45299999999999996\n",
      "steph 3P%  0.379\n",
      "steph eFG%  0.557\n",
      "steph FT%  0.9259999999999999\n",
      "steph REB  5.6\n",
      "steph AST  6.2\n",
      "steph STL  1.2\n",
      "steph BLK  0.1\n",
      "steph TOV  3.4\n",
      "steph PF  2.3\n",
      "steph PTS  27.9\n",
      "------------------------------------------------------\n",
      "steph score  144.21439262504236\n"
     ]
    }
   ],
   "source": [
    "steph = gdf[gdf.Player == 'Stephen Curry']\n",
    "\n",
    "steph_winp = steph.WINP.mean()\n",
    "steph_fgp = steph.FGP.mean()\n",
    "steph_3pp = steph.TPP.mean()\n",
    "steph_efgp = steph.eFGP.mean()\n",
    "steph_ftp = steph.FTP.mean()\n",
    "steph_reb = steph.TRB.mean()\n",
    "steph_ast = steph.AST.mean()\n",
    "steph_stl = steph.STL.mean()\n",
    "steph_blk = steph.BLK.mean()\n",
    "steph_tov = steph.TOV.mean()\n",
    "steph_pf = steph.PF.mean()\n",
    "steph_pts = steph.PTS.mean()\n",
    "\n",
    "print(\"steph FG% \", steph_fgp)\n",
    "print(\"steph 3P% \", steph_3pp)\n",
    "print(\"steph eFG% \", steph_efgp)\n",
    "print(\"steph FT% \", steph_ftp)\n",
    "print(\"steph REB \", steph_reb)\n",
    "print(\"steph AST \", steph_ast)\n",
    "print(\"steph STL \", steph_stl)\n",
    "print(\"steph BLK \", steph_blk)\n",
    "print(\"steph TOV \", steph_tov)\n",
    "print(\"steph PF \", steph_pf)\n",
    "print(\"steph PTS \", steph_pts)\n",
    "\n",
    "print(\"------------------------------------------------------\")\n",
    "\n",
    "steph_scoring = (steph_fgp/steph_3pp/steph_ftp)*(steph_pts)/(1-steph_efgp)\n",
    "steph_key = steph_scoring/(steph_reb*steph_ast*steph_stl*steph_blk)\n",
    "steph_score = ((steph_key*(steph_tov/steph_pf))*((steph_winp)))*10\n",
    "steph_score\n",
    "\n",
    "print(\"steph score \", steph_score)"
   ]
  },
  {
   "cell_type": "code",
   "execution_count": 122,
   "metadata": {},
   "outputs": [
    {
     "name": "stdout",
     "output_type": "stream",
     "text": [
      "ad FG%  0.537\n",
      "ad 3P%  0.375\n",
      "ad eFG%  0.568\n",
      "ad FT%  0.731\n",
      "ad REB  8.8\n",
      "ad AST  3.5\n",
      "ad STL  1.3\n",
      "ad BLK  1.9\n",
      "ad TOV  1.7\n",
      "ad PF  1.7\n",
      "ad PTS  22.1\n",
      "------------------------------------------------------\n",
      "ad score  10.077386913372226\n"
     ]
    }
   ],
   "source": [
    "ad = gdf[gdf.Player == 'Anthony Davis']\n",
    "\n",
    "ad_winp = ad.WINP.mean()\n",
    "ad_fgp = ad.FGP.mean()\n",
    "ad_3pp = ad.TPP.mean()\n",
    "ad_efgp = ad.eFGP.mean()\n",
    "ad_ftp = ad.FTP.mean()\n",
    "ad_reb = ad.TRB.mean()\n",
    "ad_ast = ad.AST.mean()\n",
    "ad_stl = ad.STL.mean()\n",
    "ad_blk = ad.BLK.mean()\n",
    "ad_tov = ad.TOV.mean()\n",
    "ad_pf = ad.PF.mean()\n",
    "ad_pts = ad.PTS.mean()\n",
    "\n",
    "print(\"ad FG% \", ad_fgp)\n",
    "print(\"ad 3P% \", ad_3pp)\n",
    "print(\"ad eFG% \", ad_efgp)\n",
    "print(\"ad FT% \", ad_ftp)\n",
    "print(\"ad REB \", ad_reb)\n",
    "print(\"ad AST \", ad_ast)\n",
    "print(\"ad STL \", ad_stl)\n",
    "print(\"ad BLK \", ad_blk)\n",
    "print(\"ad TOV \", ad_tov)\n",
    "print(\"ad PF \", ad_pf)\n",
    "print(\"ad PTS \", ad_pts)\n",
    "\n",
    "print(\"------------------------------------------------------\")\n",
    "\n",
    "ad_scoring = (ad_fgp/ad_3pp/ad_ftp)*(ad_pts)/(1-ad_efgp)\n",
    "ad_key = ad_scoring/(ad_reb*ad_ast*ad_stl*ad_blk)\n",
    "ad_score = ((ad_key*(ad_tov/ad_pf))*((ad_winp)))*10\n",
    "ad_score\n",
    "\n",
    "print(\"ad score \", ad_score)"
   ]
  },
  {
   "cell_type": "code",
   "execution_count": 123,
   "metadata": {},
   "outputs": [
    {
     "name": "stdout",
     "output_type": "stream",
     "text": [
      "luka FG%  0.457\n",
      "luka 3P%  0.278\n",
      "luka eFG%  0.505\n",
      "luka FT%  0.746\n",
      "luka REB  9.7\n",
      "luka AST  9.5\n",
      "luka STL  0.9\n",
      "luka BLK  0.7\n",
      "luka TOV  3.9\n",
      "luka PF  1.7\n",
      "luka PTS  26.7\n",
      "------------------------------------------------------\n",
      "luka score  23.48488511896231\n"
     ]
    }
   ],
   "source": [
    "luka = gdf[gdf.Player == 'Luka Doncic']\n",
    "\n",
    "luka_winp = luka.WINP.mean()\n",
    "luka_fgp = luka.FGP.mean()\n",
    "luka_3pp = luka.TPP.mean()\n",
    "luka_efgp = luka.eFGP.mean()\n",
    "luka_ftp = luka.FTP.mean()\n",
    "luka_reb = luka.TRB.mean()\n",
    "luka_ast = luka.AST.mean()\n",
    "luka_stl = luka.STL.mean()\n",
    "luka_blk = luka.BLK.mean()\n",
    "luka_tov = luka.TOV.mean()\n",
    "luka_pf = luka.PF.mean()\n",
    "luka_pts = luka.PTS.mean()\n",
    "\n",
    "print(\"luka FG% \", luka_fgp)\n",
    "print(\"luka 3P% \", luka_3pp)\n",
    "print(\"luka eFG% \", luka_efgp)\n",
    "print(\"luka FT% \", luka_ftp)\n",
    "print(\"luka REB \", luka_reb)\n",
    "print(\"luka AST \", luka_ast)\n",
    "print(\"luka STL \", luka_stl)\n",
    "print(\"luka BLK \", luka_blk)\n",
    "print(\"luka TOV \", luka_tov)\n",
    "print(\"luka PF \", luka_pf)\n",
    "print(\"luka PTS \", luka_pts)\n",
    "\n",
    "print(\"------------------------------------------------------\")\n",
    "\n",
    "luka_scoring = (luka_fgp/luka_3pp/luka_ftp)*(luka_pts)/(1-luka_efgp)\n",
    "luka_key = luka_scoring/(luka_reb*luka_ast*luka_stl*luka_blk)\n",
    "luka_score = ((luka_key*(luka_tov/luka_pf))*((luka_winp)))*10\n",
    "luka_score\n",
    "\n",
    "print(\"luka score \", luka_score)"
   ]
  },
  {
   "cell_type": "code",
   "execution_count": 124,
   "metadata": {},
   "outputs": [
    {
     "name": "stdout",
     "output_type": "stream",
     "text": [
      "kd FG%  0.5379999999999999\n",
      "kd 3P%  0.475\n",
      "kd eFG%  0.613\n",
      "kd FT%  0.865\n",
      "kd REB  7.2\n",
      "kd AST  5.8\n",
      "kd STL  0.8\n",
      "kd BLK  1.4\n",
      "kd TOV  3.7\n",
      "kd PF  2.2\n",
      "kd PTS  31.2\n",
      "------------------------------------------------------\n",
      "kd score  21.10529902573063\n"
     ]
    }
   ],
   "source": [
    "kd = gdf[gdf.Player == 'Kevin Durant']\n",
    "\n",
    "kd_winp = kd.WINP.mean()\n",
    "kd_fgp = kd.FGP.mean()\n",
    "kd_3pp = kd.TPP.mean()\n",
    "kd_efgp = kd.eFGP.mean()\n",
    "kd_ftp = kd.FTP.mean()\n",
    "kd_reb = kd.TRB.mean()\n",
    "kd_ast = kd.AST.mean()\n",
    "kd_stl = kd.STL.mean()\n",
    "kd_blk = kd.BLK.mean()\n",
    "kd_tov = kd.TOV.mean()\n",
    "kd_pf = kd.PF.mean()\n",
    "kd_pts = kd.PTS.mean()\n",
    "\n",
    "print(\"kd FG% \", kd_fgp)\n",
    "print(\"kd 3P% \", kd_3pp)\n",
    "print(\"kd eFG% \", kd_efgp)\n",
    "print(\"kd FT% \", kd_ftp)\n",
    "print(\"kd REB \", kd_reb)\n",
    "print(\"kd AST \", kd_ast)\n",
    "print(\"kd STL \", kd_stl)\n",
    "print(\"kd BLK \", kd_blk)\n",
    "print(\"kd TOV \", kd_tov)\n",
    "print(\"kd PF \", kd_pf)\n",
    "print(\"kd PTS \", kd_pts)\n",
    "\n",
    "print(\"------------------------------------------------------\")\n",
    "\n",
    "kd_scoring = (kd_fgp/kd_3pp/kd_ftp)*(kd_pts)/(1-kd_efgp)\n",
    "kd_key = kd_scoring/(kd_reb*kd_ast*kd_stl*kd_blk)\n",
    "kd_score = ((kd_key*(kd_tov/kd_pf))*((kd_winp)))*10\n",
    "kd_score\n",
    "\n",
    "print(\"kd score \", kd_score)"
   ]
  },
  {
   "cell_type": "code",
   "execution_count": 125,
   "metadata": {},
   "outputs": [
    {
     "name": "stdout",
     "output_type": "stream",
     "text": [
      "embiid FG%  0.5539999999999999\n",
      "embiid 3P%  0.405\n",
      "embiid eFG%  0.5920000000000001\n",
      "embiid FT%  0.833\n",
      "embiid REB  11.5\n",
      "embiid AST  2.7\n",
      "embiid STL  1.3\n",
      "embiid BLK  1.4\n",
      "embiid TOV  3.1\n",
      "embiid PF  2.3\n",
      "embiid PTS  27.7\n",
      "------------------------------------------------------\n",
      "embiid score  18.773053268050777\n"
     ]
    }
   ],
   "source": [
    "embiid = gdf[gdf.Player == 'Joel Embiid']\n",
    "\n",
    "embiid_winp = embiid.WINP.mean()\n",
    "embiid_fgp = embiid.FGP.mean()\n",
    "embiid_3pp = embiid.TPP.mean()\n",
    "embiid_efgp = embiid.eFGP.mean()\n",
    "embiid_ftp = embiid.FTP.mean()\n",
    "embiid_reb = embiid.TRB.mean()\n",
    "embiid_ast = embiid.AST.mean()\n",
    "embiid_stl = embiid.STL.mean()\n",
    "embiid_blk = embiid.BLK.mean()\n",
    "embiid_tov = embiid.TOV.mean()\n",
    "embiid_pf = embiid.PF.mean()\n",
    "embiid_pts = embiid.PTS.mean()\n",
    "\n",
    "print(\"embiid FG% \", embiid_fgp)\n",
    "print(\"embiid 3P% \", embiid_3pp)\n",
    "print(\"embiid eFG% \", embiid_efgp)\n",
    "print(\"embiid FT% \", embiid_ftp)\n",
    "print(\"embiid REB \", embiid_reb)\n",
    "print(\"embiid AST \", embiid_ast)\n",
    "print(\"embiid STL \", embiid_stl)\n",
    "print(\"embiid BLK \", embiid_blk)\n",
    "print(\"embiid TOV \", embiid_tov)\n",
    "print(\"embiid PF \", embiid_pf)\n",
    "print(\"embiid PTS \", embiid_pts)\n",
    "\n",
    "print(\"------------------------------------------------------\")\n",
    "\n",
    "embiid_scoring = (embiid_fgp/embiid_3pp/embiid_ftp)*(embiid_pts)/(1-embiid_efgp)\n",
    "embiid_key = embiid_scoring/(embiid_reb*embiid_ast*embiid_stl*embiid_blk)\n",
    "embiid_score = ((embiid_key*(embiid_tov/embiid_pf))*((embiid_winp)))*10\n",
    "embiid_score\n",
    "\n",
    "print(\"embiid score \", embiid_score)"
   ]
  },
  {
   "cell_type": "code",
   "execution_count": 126,
   "metadata": {},
   "outputs": [
    {
     "name": "stdout",
     "output_type": "stream",
     "text": [
      "pg FG%  0.515\n",
      "pg 3P%  0.5\n",
      "pg eFG%  0.636\n",
      "pg FT%  0.9179999999999999\n",
      "pg REB  6.3\n",
      "pg AST  5.5\n",
      "pg STL  1.2\n",
      "pg BLK  0.5\n",
      "pg TOV  4.0\n",
      "pg PF  2.3\n",
      "pg PTS  24.7\n",
      "------------------------------------------------------\n",
      "pg score  47.767118363472854\n"
     ]
    }
   ],
   "source": [
    "pg = gdf[gdf.Player == 'Paul George']\n",
    "\n",
    "pg_winp = pg.WINP.mean()\n",
    "pg_fgp = pg.FGP.mean()\n",
    "pg_3pp = pg.TPP.mean()\n",
    "pg_efgp = pg.eFGP.mean()\n",
    "pg_ftp = pg.FTP.mean()\n",
    "pg_reb = pg.TRB.mean()\n",
    "pg_ast = pg.AST.mean()\n",
    "pg_stl = pg.STL.mean()\n",
    "pg_blk = pg.BLK.mean()\n",
    "pg_tov = pg.TOV.mean()\n",
    "pg_pf = pg.PF.mean()\n",
    "pg_pts = pg.PTS.mean()\n",
    "\n",
    "print(\"pg FG% \", pg_fgp)\n",
    "print(\"pg 3P% \", pg_3pp)\n",
    "print(\"pg eFG% \", pg_efgp)\n",
    "print(\"pg FT% \", pg_ftp)\n",
    "print(\"pg REB \", pg_reb)\n",
    "print(\"pg AST \", pg_ast)\n",
    "print(\"pg STL \", pg_stl)\n",
    "print(\"pg BLK \", pg_blk)\n",
    "print(\"pg TOV \", pg_tov)\n",
    "print(\"pg PF \", pg_pf)\n",
    "print(\"pg PTS \", pg_pts)\n",
    "\n",
    "print(\"------------------------------------------------------\")\n",
    "\n",
    "pg_scoring = (pg_fgp/pg_3pp/pg_ftp)*(pg_pts)/(1-pg_efgp)\n",
    "pg_key = pg_scoring/(pg_reb*pg_ast*pg_stl*pg_blk)\n",
    "pg_score = ((pg_key*(pg_tov/pg_pf))*((pg_winp)))*10\n",
    "pg_score\n",
    "\n",
    "print(\"pg score \", pg_score)"
   ]
  },
  {
   "cell_type": "code",
   "execution_count": 127,
   "metadata": {},
   "outputs": [
    {
     "name": "stdout",
     "output_type": "stream",
     "text": [
      "harden FG%  0.509\n",
      "harden 3P%  0.368\n",
      "harden eFG%  0.568\n",
      "harden FT%  0.775\n",
      "harden REB  5.1\n",
      "harden AST  6.4\n",
      "harden STL  0.9\n",
      "harden BLK  0.4\n",
      "harden TOV  2.7\n",
      "harden PF  2.3\n",
      "harden PTS  21.6\n",
      "------------------------------------------------------\n",
      "harden score  49.56742228722699\n"
     ]
    }
   ],
   "source": [
    "harden = gdf[gdf.Player == 'James Harden']\n",
    "\n",
    "harden_winp = harden.WINP.mean()\n",
    "harden_fgp = harden.FGP.mean()\n",
    "harden_3pp = harden.TPP.mean()\n",
    "harden_efgp = harden.eFGP.mean()\n",
    "harden_ftp = harden.FTP.mean()\n",
    "harden_reb = harden.TRB.mean()\n",
    "harden_ast = harden.AST.mean()\n",
    "harden_stl = harden.STL.mean()\n",
    "harden_blk = harden.BLK.mean()\n",
    "harden_tov = harden.TOV.mean()\n",
    "harden_pf = harden.PF.mean()\n",
    "harden_pts = harden.PTS.mean()\n",
    "\n",
    "print(\"harden FG% \", harden_fgp)\n",
    "print(\"harden 3P% \", harden_3pp)\n",
    "print(\"harden eFG% \", harden_efgp)\n",
    "print(\"harden FT% \", harden_ftp)\n",
    "print(\"harden REB \", harden_reb)\n",
    "print(\"harden AST \", harden_ast)\n",
    "print(\"harden STL \", harden_stl)\n",
    "print(\"harden BLK \", harden_blk)\n",
    "print(\"harden TOV \", harden_tov)\n",
    "print(\"harden PF \", harden_pf)\n",
    "print(\"harden PTS \", harden_pts)\n",
    "\n",
    "print(\"------------------------------------------------------\")\n",
    "\n",
    "harden_scoring = (harden_fgp/harden_3pp/harden_ftp)*(harden_pts)/(1-harden_efgp)\n",
    "harden_key = harden_scoring/(harden_reb*harden_ast*harden_stl*harden_blk)\n",
    "harden_score = ((harden_key*(harden_tov/harden_pf))*((harden_winp)))*10\n",
    "harden_score\n",
    "\n",
    "print(\"harden score \", harden_score)"
   ]
  },
  {
   "cell_type": "code",
   "execution_count": 128,
   "metadata": {},
   "outputs": [
    {
     "name": "stdout",
     "output_type": "stream",
     "text": [
      "bron FG%  0.47700000000000004\n",
      "bron 3P%  0.389\n",
      "bron eFG%  0.545\n",
      "bron FT%  0.7170000000000001\n",
      "bron REB  7.9\n",
      "bron AST  7.5\n",
      "bron STL  0.9\n",
      "bron BLK  0.4\n",
      "bron TOV  3.7\n",
      "bron PF  1.4\n",
      "bron PTS  23.9\n",
      "------------------------------------------------------\n",
      "bron score  85.14916518468073\n"
     ]
    }
   ],
   "source": [
    "bron = gdf[gdf.Player == 'LeBron James']\n",
    "\n",
    "bron_winp = bron.WINP.mean()\n",
    "bron_fgp = bron.FGP.mean()\n",
    "bron_3pp = bron.TPP.mean()\n",
    "bron_efgp = bron.eFGP.mean()\n",
    "bron_ftp = bron.FTP.mean()\n",
    "bron_reb = bron.TRB.mean()\n",
    "bron_ast = bron.AST.mean()\n",
    "bron_stl = bron.STL.mean()\n",
    "bron_blk = bron.BLK.mean()\n",
    "bron_tov = bron.TOV.mean()\n",
    "bron_pf = bron.PF.mean()\n",
    "bron_pts = bron.PTS.mean()\n",
    "\n",
    "print(\"bron FG% \", bron_fgp)\n",
    "print(\"bron 3P% \", bron_3pp)\n",
    "print(\"bron eFG% \", bron_efgp)\n",
    "print(\"bron FT% \", bron_ftp)\n",
    "print(\"bron REB \", bron_reb)\n",
    "print(\"bron AST \", bron_ast)\n",
    "print(\"bron STL \", bron_stl)\n",
    "print(\"bron BLK \", bron_blk)\n",
    "print(\"bron TOV \", bron_tov)\n",
    "print(\"bron PF \", bron_pf)\n",
    "print(\"bron PTS \", bron_pts)\n",
    "\n",
    "print(\"------------------------------------------------------\")\n",
    "\n",
    "bron_scoring = (bron_fgp/bron_3pp/bron_ftp)*(bron_pts)/(1-bron_efgp)\n",
    "bron_key = bron_scoring/(bron_reb*bron_ast*bron_stl*bron_blk)\n",
    "bron_score = ((bron_key*(bron_tov/bron_pf))*((bron_winp)))*10\n",
    "bron_score\n",
    "\n",
    "print(\"bron score \", bron_score)"
   ]
  },
  {
   "cell_type": "code",
   "execution_count": 129,
   "metadata": {},
   "outputs": [
    {
     "name": "stdout",
     "output_type": "stream",
     "text": [
      "jokic FG%  0.47700000000000004\n",
      "jokic 3P%  0.389\n",
      "jokic eFG%  0.545\n",
      "jokic FT%  0.7170000000000001\n",
      "jokic REB  7.9\n",
      "jokic AST  7.5\n",
      "jokic STL  0.9\n",
      "jokic BLK  0.4\n",
      "jokic TOV  3.7\n",
      "jokic PF  1.4\n",
      "jokic PTS  23.9\n",
      "------------------------------------------------------\n",
      "jokic score  62.66533333199379\n"
     ]
    }
   ],
   "source": [
    "jokic = gdf[gdf.Player == 'Nikola Jokic']\n",
    "\n",
    "jokic_winp = jokic.WINP.mean()\n",
    "jokic_fgp = jokic.FGP.mean()\n",
    "jokic_3pp = jokic.TPP.mean()\n",
    "jokic_efgp = jokic.eFGP.mean()\n",
    "jokic_ftp = jokic.FTP.mean()\n",
    "jokic_reb = jokic.TRB.mean()\n",
    "jokic_ast = jokic.AST.mean()\n",
    "jokic_stl = jokic.STL.mean()\n",
    "jokic_blk = jokic.BLK.mean()\n",
    "jokic_tov = jokic.TOV.mean()\n",
    "jokic_pf = jokic.PF.mean()\n",
    "jokic_pts = jokic.PTS.mean()\n",
    "\n",
    "print(\"jokic FG% \", jokic_fgp)\n",
    "print(\"jokic 3P% \", jokic_3pp)\n",
    "print(\"jokic eFG% \", jokic_efgp)\n",
    "print(\"jokic FT% \", jokic_ftp)\n",
    "print(\"jokic REB \", jokic_reb)\n",
    "print(\"jokic AST \", jokic_ast)\n",
    "print(\"jokic STL \", jokic_stl)\n",
    "print(\"jokic BLK \", jokic_blk)\n",
    "print(\"jokic TOV \", jokic_tov)\n",
    "print(\"jokic PF \", jokic_pf)\n",
    "print(\"jokic PTS \", jokic_pts)\n",
    "\n",
    "print(\"------------------------------------------------------\")\n",
    "\n",
    "jokic_scoring = (jokic_fgp/jokic_3pp/jokic_ftp)*(jokic_pts)/(1-jokic_efgp)\n",
    "jokic_key = jokic_scoring/(jokic_reb*jokic_ast*jokic_stl*jokic_blk)\n",
    "jokic_score = ((jokic_key*(jokic_tov/jokic_pf))*((jokic_winp)))*10\n",
    "jokic_score\n",
    "\n",
    "print(\"jokic score \", jokic_score)"
   ]
  },
  {
   "cell_type": "code",
   "execution_count": 130,
   "metadata": {},
   "outputs": [
    {
     "name": "stdout",
     "output_type": "stream",
     "text": [
      "klaw FG%  0.498\n",
      "klaw 3P%  0.415\n",
      "klaw eFG%  0.55\n",
      "klaw FT%  0.897\n",
      "klaw REB  5.1\n",
      "klaw AST  5.6\n",
      "klaw STL  2.1\n",
      "klaw BLK  0.7\n",
      "klaw TOV  1.9\n",
      "klaw PF  1.8\n",
      "klaw PTS  25.4\n",
      "------------------------------------------------------\n",
      "klaw score  14.238912696846599\n"
     ]
    }
   ],
   "source": [
    "klaw = gdf[gdf.Player == 'Kawhi Leonard']\n",
    "\n",
    "klaw_winp = klaw.WINP.mean()\n",
    "klaw_fgp = klaw.FGP.mean()\n",
    "klaw_3pp = klaw.TPP.mean()\n",
    "klaw_efgp = klaw.eFGP.mean()\n",
    "klaw_ftp = klaw.FTP.mean()\n",
    "klaw_reb = klaw.TRB.mean()\n",
    "klaw_ast = klaw.AST.mean()\n",
    "klaw_stl = klaw.STL.mean()\n",
    "klaw_blk = klaw.BLK.mean()\n",
    "klaw_tov = klaw.TOV.mean()\n",
    "klaw_pf = klaw.PF.mean()\n",
    "klaw_pts = klaw.PTS.mean()\n",
    "\n",
    "print(\"klaw FG% \", klaw_fgp)\n",
    "print(\"klaw 3P% \", klaw_3pp)\n",
    "print(\"klaw eFG% \", klaw_efgp)\n",
    "print(\"klaw FT% \", klaw_ftp)\n",
    "print(\"klaw REB \", klaw_reb)\n",
    "print(\"klaw AST \", klaw_ast)\n",
    "print(\"klaw STL \", klaw_stl)\n",
    "print(\"klaw BLK \", klaw_blk)\n",
    "print(\"klaw TOV \", klaw_tov)\n",
    "print(\"klaw PF \", klaw_pf)\n",
    "print(\"klaw PTS \", klaw_pts)\n",
    "\n",
    "print(\"------------------------------------------------------\")\n",
    "\n",
    "klaw_scoring = (klaw_fgp/klaw_3pp/klaw_ftp)*(klaw_pts)/(1-klaw_efgp)\n",
    "klaw_key = klaw_scoring/(klaw_reb*klaw_ast*klaw_stl*klaw_blk)\n",
    "klaw_score = ((klaw_key*(klaw_tov/klaw_pf))*((klaw_winp)))*10\n",
    "klaw_score\n",
    "\n",
    "print(\"klaw score \", klaw_score)"
   ]
  },
  {
   "cell_type": "code",
   "execution_count": 131,
   "metadata": {
    "scrolled": true
   },
   "outputs": [
    {
     "name": "stdout",
     "output_type": "stream",
     "text": [
      "dame FG%  0.441\n",
      "dame 3P%  0.369\n",
      "dame eFG%  0.537\n",
      "dame FT%  0.945\n",
      "dame REB  4.7\n",
      "dame AST  6.7\n",
      "dame STL  1.0\n",
      "dame BLK  0.3\n",
      "dame TOV  3.1\n",
      "dame PF  1.4\n",
      "dame PTS  28.1\n",
      "------------------------------------------------------\n",
      "dame score  102.72628788286764\n"
     ]
    }
   ],
   "source": [
    "dame = gdf[gdf.Player == 'Damian Lillard']\n",
    "\n",
    "dame_winp = dame.WINP.mean()\n",
    "dame_fgp = dame.FGP.mean()\n",
    "dame_3pp = dame.TPP.mean()\n",
    "dame_efgp = dame.eFGP.mean()\n",
    "dame_ftp = dame.FTP.mean()\n",
    "dame_reb = dame.TRB.mean()\n",
    "dame_ast = dame.AST.mean()\n",
    "dame_stl = dame.STL.mean()\n",
    "dame_blk = dame.BLK.mean()\n",
    "dame_tov = dame.TOV.mean()\n",
    "dame_pf = dame.PF.mean()\n",
    "dame_pts = dame.PTS.mean()\n",
    "\n",
    "print(\"dame FG% \", dame_fgp)\n",
    "print(\"dame 3P% \", dame_3pp)\n",
    "print(\"dame eFG% \", dame_efgp)\n",
    "print(\"dame FT% \", dame_ftp)\n",
    "print(\"dame REB \", dame_reb)\n",
    "print(\"dame AST \", dame_ast)\n",
    "print(\"dame STL \", dame_stl)\n",
    "print(\"dame BLK \", dame_blk)\n",
    "print(\"dame TOV \", dame_tov)\n",
    "print(\"dame PF \", dame_pf)\n",
    "print(\"dame PTS \", dame_pts)\n",
    "\n",
    "print(\"------------------------------------------------------\")\n",
    "\n",
    "dame_scoring = (dame_fgp/dame_3pp/dame_ftp)*(dame_pts)/(1-dame_efgp)\n",
    "dame_key = dame_scoring/(dame_reb*dame_ast*dame_stl*dame_blk)\n",
    "dame_score = ((dame_key*(dame_tov/dame_pf))*((dame_winp)))*10\n",
    "dame_score\n",
    "\n",
    "print(\"dame score \", dame_score)"
   ]
  },
  {
   "cell_type": "code",
   "execution_count": 132,
   "metadata": {},
   "outputs": [
    {
     "name": "stdout",
     "output_type": "stream",
     "text": [
      "spida FG%  0.442\n",
      "spida 3P%  0.406\n",
      "spida eFG%  0.532\n",
      "spida FT%  0.841\n",
      "spida REB  4.1\n",
      "spida AST  5.0\n",
      "spida STL  0.8\n",
      "spida BLK  0.4\n",
      "spida TOV  3.2\n",
      "spida PF  1.9\n",
      "spida PTS  24.3\n",
      "------------------------------------------------------\n",
      "spida score  129.4238938516691\n"
     ]
    }
   ],
   "source": [
    "spida = gdf[gdf.Player == 'Donovan Mitchell']\n",
    "\n",
    "spida_winp = spida.WINP.mean()\n",
    "spida_fgp = spida.FGP.mean()\n",
    "spida_3pp = spida.TPP.mean()\n",
    "spida_efgp = spida.eFGP.mean()\n",
    "spida_ftp = spida.FTP.mean()\n",
    "spida_reb = spida.TRB.mean()\n",
    "spida_ast = spida.AST.mean()\n",
    "spida_stl = spida.STL.mean()\n",
    "spida_blk = spida.BLK.mean()\n",
    "spida_tov = spida.TOV.mean()\n",
    "spida_pf = spida.PF.mean()\n",
    "spida_pts = spida.PTS.mean()\n",
    "\n",
    "print(\"spida FG% \", spida_fgp)\n",
    "print(\"spida 3P% \", spida_3pp)\n",
    "print(\"spida eFG% \", spida_efgp)\n",
    "print(\"spida FT% \", spida_ftp)\n",
    "print(\"spida REB \", spida_reb)\n",
    "print(\"spida AST \", spida_ast)\n",
    "print(\"spida STL \", spida_stl)\n",
    "print(\"spida BLK \", spida_blk)\n",
    "print(\"spida TOV \", spida_tov)\n",
    "print(\"spida PF \", spida_pf)\n",
    "print(\"spida PTS \", spida_pts)\n",
    "\n",
    "print(\"------------------------------------------------------\")\n",
    "\n",
    "spida_scoring = (spida_fgp/spida_3pp/spida_ftp)*(spida_pts)/(1-spida_efgp)\n",
    "spida_key = spida_scoring/(spida_reb*spida_ast*spida_stl*spida_blk)\n",
    "spida_score = ((spida_key*(spida_tov/spida_pf))*((spida_winp)))*10\n",
    "spida_score\n",
    "\n",
    "print(\"spida score \", spida_score)"
   ]
  },
  {
   "cell_type": "code",
   "execution_count": 133,
   "metadata": {},
   "outputs": [
    {
     "name": "stdout",
     "output_type": "stream",
     "text": [
      "tatum FG%  0.474\n",
      "tatum 3P%  0.43799999999999994\n",
      "tatum eFG%  0.556\n",
      "tatum FT%  0.889\n",
      "tatum REB  7.1\n",
      "tatum AST  3.8\n",
      "tatum STL  1.0\n",
      "tatum BLK  0.8\n",
      "tatum TOV  2.4\n",
      "tatum PF  1.8\n",
      "tatum PTS  26.9\n",
      "------------------------------------------------------\n",
      "tatum score  26.014452646427706\n"
     ]
    }
   ],
   "source": [
    "tatum = gdf[gdf.Player == 'Jayson Tatum']\n",
    "\n",
    "tatum_winp = tatum.WINP.mean()\n",
    "tatum_fgp = tatum.FGP.mean()\n",
    "tatum_3pp = tatum.TPP.mean()\n",
    "tatum_efgp = tatum.eFGP.mean()\n",
    "tatum_ftp = tatum.FTP.mean()\n",
    "tatum_reb = tatum.TRB.mean()\n",
    "tatum_ast = tatum.AST.mean()\n",
    "tatum_stl = tatum.STL.mean()\n",
    "tatum_blk = tatum.BLK.mean()\n",
    "tatum_tov = tatum.TOV.mean()\n",
    "tatum_pf = tatum.PF.mean()\n",
    "tatum_pts = tatum.PTS.mean()\n",
    "\n",
    "print(\"tatum FG% \", tatum_fgp)\n",
    "print(\"tatum 3P% \", tatum_3pp)\n",
    "print(\"tatum eFG% \", tatum_efgp)\n",
    "print(\"tatum FT% \", tatum_ftp)\n",
    "print(\"tatum REB \", tatum_reb)\n",
    "print(\"tatum AST \", tatum_ast)\n",
    "print(\"tatum STL \", tatum_stl)\n",
    "print(\"tatum BLK \", tatum_blk)\n",
    "print(\"tatum TOV \", tatum_tov)\n",
    "print(\"tatum PF \", tatum_pf)\n",
    "print(\"tatum PTS \", tatum_pts)\n",
    "\n",
    "print(\"------------------------------------------------------\")\n",
    "\n",
    "tatum_scoring = (tatum_fgp/tatum_3pp/tatum_ftp)*(tatum_pts)/(1-tatum_efgp)\n",
    "tatum_key = tatum_scoring/(tatum_reb*tatum_ast*tatum_stl*tatum_blk)\n",
    "tatum_score = ((tatum_key*(tatum_tov/tatum_pf))*((tatum_winp)))*10\n",
    "tatum_score\n",
    "\n",
    "print(\"tatum score \", tatum_score)"
   ]
  },
  {
   "cell_type": "code",
   "execution_count": 134,
   "metadata": {
    "scrolled": false
   },
   "outputs": [
    {
     "name": "stdout",
     "output_type": "stream",
     "text": [
      "giannis score               20.738678501029565\n",
      "beal score               15.97195596142252\n",
      "steph score               144.21439262504236\n",
      "ad score               10.077386913372226\n",
      "luka score               23.48488511896231\n",
      "kd score               21.10529902573063\n",
      "embiid score               18.773053268050777\n",
      "pg score               47.767118363472854\n",
      "harden score               49.56742228722699\n",
      "bron score               85.14916518468073\n",
      "jokic score               62.66533333199379\n",
      "klaw score               14.238912696846599\n",
      "dame              102.72628788286764\n",
      "spida score               129.4238938516691\n",
      "tatum score               26.014452646427706\n"
     ]
    }
   ],
   "source": [
    "Giannis = print(\"giannis score              \", giannis_score)\n",
    "Beal = print(\"beal score              \", beal_score)\n",
    "Steph = print(\"steph score              \", steph_score)\n",
    "AD = print(\"ad score              \", ad_score)\n",
    "Luka = print(\"luka score              \", luka_score)\n",
    "KD = print(\"kd score              \", kd_score)\n",
    "Embiid = print(\"embiid score              \", embiid_score)\n",
    "PG = print(\"pg score              \", pg_score)\n",
    "Harden = print(\"harden score              \", harden_score)\n",
    "Bron = print(\"bron score              \", bron_score)\n",
    "Jokic = print(\"jokic score              \", jokic_score)\n",
    "Klaw = print(\"klaw score              \", klaw_score)\n",
    "Dame = print(\"dame             \", dame_score)\n",
    "Spida = print(\"spida score              \", spida_score)\n",
    "Tatum = print(\"tatum score              \", tatum_score)"
   ]
  },
  {
   "cell_type": "code",
   "execution_count": 136,
   "metadata": {},
   "outputs": [
    {
     "name": "stdout",
     "output_type": "stream",
     "text": [
      "[144.21439262504236, 129.4238938516691, 102.72628788286764, 85.14916518468073, 62.66533333199379, 49.56742228722699, 47.767118363472854, 26.014452646427706, 23.48488511896231, 21.10529902573063, 20.738678501029565, 18.773053268050777, 15.97195596142252, 14.238912696846599, 10.077386913372226]\n"
     ]
    }
   ],
   "source": [
    "mvp = [giannis_score, beal_score, steph_score, ad_score, luka_score, kd_score, embiid_score, pg_score, harden_score, bron_score, jokic_score, klaw_score, dame_score, spida_score, tatum_score]\n",
    "mvp.sort(reverse = True)\n",
    "print(mvp)"
   ]
  }
 ],
 "metadata": {
  "kernelspec": {
   "display_name": "Python 3",
   "language": "python",
   "name": "python3"
  },
  "language_info": {
   "codemirror_mode": {
    "name": "ipython",
    "version": 3
   },
   "file_extension": ".py",
   "mimetype": "text/x-python",
   "name": "python",
   "nbconvert_exporter": "python",
   "pygments_lexer": "ipython3",
   "version": "3.7.6"
  }
 },
 "nbformat": 4,
 "nbformat_minor": 4
}
